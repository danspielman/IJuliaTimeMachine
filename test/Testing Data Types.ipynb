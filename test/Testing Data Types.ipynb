{
 "cells": [
  {
   "cell_type": "markdown",
   "metadata": {
    "ExecuteTime": {
     "end_time": "2020-12-31T14:56:51.144000-05:00",
     "start_time": "2020-12-31T19:56:50.019Z"
    }
   },
   "source": [
    "We use this notebook to make sure that the Time Machine does not throw errors on common data types."
   ]
  },
  {
   "cell_type": "code",
   "execution_count": 1,
   "metadata": {
    "ExecuteTime": {
     "end_time": "2020-12-31T15:09:36.116000-05:00",
     "start_time": "2020-12-31T20:09:34.737Z"
    }
   },
   "outputs": [
    {
     "data": {
      "text/plain": [
       "IJuliaTimeMachine"
      ]
     },
     "execution_count": 1,
     "metadata": {},
     "output_type": "execute_result"
    }
   ],
   "source": [
    "using IJuliaTimeMachine\n",
    "TM = IJuliaTimeMachine"
   ]
  },
  {
   "cell_type": "code",
   "execution_count": 2,
   "metadata": {
    "ExecuteTime": {
     "end_time": "2020-12-31T15:09:36.648000-05:00",
     "start_time": "2020-12-31T20:09:34.739Z"
    }
   },
   "outputs": [
    {
     "data": {
      "text/plain": [
       "1//1"
      ]
     },
     "execution_count": 2,
     "metadata": {},
     "output_type": "execute_result"
    }
   ],
   "source": [
    "x = 1\n",
    "x1 = BigInt(1)\n",
    "x2 = BigFloat(1.0)\n",
    "x3 = 2//2"
   ]
  },
  {
   "cell_type": "code",
   "execution_count": 3,
   "metadata": {
    "ExecuteTime": {
     "end_time": "2020-12-31T15:09:37.957000-05:00",
     "start_time": "2020-12-31T20:09:34.740Z"
    }
   },
   "outputs": [
    {
     "data": {
      "text/plain": [
       "4×4×4 Array{Float64,3}:\n",
       "[:, :, 1] =\n",
       "  0.978296     0.198225   1.74711   -0.727369\n",
       " -1.4505      -0.962365  -0.298152   0.476303\n",
       " -1.1067       0.59163    0.58354    1.93112\n",
       "  0.00927694  -0.558384  -0.186031  -0.689835\n",
       "\n",
       "[:, :, 2] =\n",
       " -0.174082  -1.70713    0.902173   0.334837\n",
       "  0.602617   2.1164    -0.478422   0.413218\n",
       " -0.183238   0.153962   0.206024   0.320583\n",
       " -0.265256  -1.23044    1.09301   -0.161803\n",
       "\n",
       "[:, :, 3] =\n",
       "  0.710372   0.307021   0.908663  -0.436548\n",
       " -0.723568  -1.76186    0.695012  -0.205642\n",
       " -0.564125  -0.387687   0.117783   0.750233\n",
       " -0.816124   1.28379   -0.894417   0.907216\n",
       "\n",
       "[:, :, 4] =\n",
       " -0.422302   0.981787   0.855356  -0.881019\n",
       " -0.30978   -1.6838    -0.505701   0.534756\n",
       " -1.23512   -0.762382   0.369727   0.244943\n",
       "  1.16964   -0.463252   0.45071   -0.862174"
      ]
     },
     "execution_count": 3,
     "metadata": {},
     "output_type": "execute_result"
    }
   ],
   "source": [
    "v = randn(4)\n",
    "m = randn(4,4)\n",
    "t = randn(4,4,4)"
   ]
  },
  {
   "cell_type": "code",
   "execution_count": 4,
   "metadata": {
    "ExecuteTime": {
     "end_time": "2020-12-31T15:09:38.135000-05:00",
     "start_time": "2020-12-31T20:09:34.741Z"
    }
   },
   "outputs": [
    {
     "data": {
      "text/plain": [
       "IOStream(<file test.txt>)"
      ]
     },
     "execution_count": 4,
     "metadata": {},
     "output_type": "execute_result"
    }
   ],
   "source": [
    "f = open(\"test.txt\",\"w\")"
   ]
  },
  {
   "cell_type": "code",
   "execution_count": 5,
   "metadata": {
    "ExecuteTime": {
     "end_time": "2020-12-31T15:09:38.459000-05:00",
     "start_time": "2020-12-31T20:09:34.742Z"
    }
   },
   "outputs": [
    {
     "data": {
      "text/plain": [
       "(false, 0)"
      ]
     },
     "execution_count": 5,
     "metadata": {},
     "output_type": "execute_result"
    }
   ],
   "source": [
    "TM.can_copy_and_hash(f)"
   ]
  },
  {
   "cell_type": "code",
   "execution_count": 6,
   "metadata": {
    "ExecuteTime": {
     "end_time": "2020-12-31T15:09:38.480000-05:00",
     "start_time": "2020-12-31T20:09:34.743Z"
    }
   },
   "outputs": [],
   "source": [
    "close(f)"
   ]
  },
  {
   "cell_type": "code",
   "execution_count": 7,
   "metadata": {
    "ExecuteTime": {
     "end_time": "2020-12-31T15:09:39.827000-05:00",
     "start_time": "2020-12-31T20:09:34.745Z"
    }
   },
   "outputs": [],
   "source": [
    "using DataFrames"
   ]
  },
  {
   "cell_type": "code",
   "execution_count": 8,
   "metadata": {
    "ExecuteTime": {
     "end_time": "2020-12-31T15:09:39.946000-05:00",
     "start_time": "2020-12-31T20:09:34.746Z"
    }
   },
   "outputs": [
    {
     "data": {
      "text/plain": [
       "DataFrames"
      ]
     },
     "execution_count": 8,
     "metadata": {},
     "output_type": "execute_result"
    }
   ],
   "source": [
    "DF = DataFrames"
   ]
  },
  {
   "cell_type": "code",
   "execution_count": 9,
   "metadata": {
    "ExecuteTime": {
     "end_time": "2020-12-31T15:09:39.947000-05:00",
     "start_time": "2020-12-31T20:09:34.747Z"
    }
   },
   "outputs": [
    {
     "data": {
      "text/plain": [
       "(false, 0)"
      ]
     },
     "execution_count": 9,
     "metadata": {},
     "output_type": "execute_result"
    }
   ],
   "source": [
    "TM.can_copy_and_hash(DF)"
   ]
  },
  {
   "cell_type": "code",
   "execution_count": 10,
   "metadata": {
    "ExecuteTime": {
     "end_time": "2020-12-31T15:09:45.557000-05:00",
     "start_time": "2020-12-31T20:09:34.749Z"
    }
   },
   "outputs": [
    {
     "data": {
      "text/html": [
       "<table class=\"data-frame\"><thead><tr><th></th><th>A</th><th>B</th></tr><tr><th></th><th>Int64</th><th>String</th></tr></thead><tbody><p>4 rows × 2 columns</p><tr><th>1</th><td>1</td><td>M</td></tr><tr><th>2</th><td>2</td><td>F</td></tr><tr><th>3</th><td>3</td><td>F</td></tr><tr><th>4</th><td>4</td><td>M</td></tr></tbody></table>"
      ],
      "text/latex": [
       "\\begin{tabular}{r|cc}\n",
       "\t& A & B\\\\\n",
       "\t\\hline\n",
       "\t& Int64 & String\\\\\n",
       "\t\\hline\n",
       "\t1 & 1 & M \\\\\n",
       "\t2 & 2 & F \\\\\n",
       "\t3 & 3 & F \\\\\n",
       "\t4 & 4 & M \\\\\n",
       "\\end{tabular}\n"
      ],
      "text/plain": [
       "\u001b[1m4×2 DataFrame\u001b[0m\n",
       "\u001b[1m Row \u001b[0m│\u001b[1m A     \u001b[0m\u001b[1m B      \u001b[0m\n",
       "\u001b[1m     \u001b[0m│\u001b[90m Int64 \u001b[0m\u001b[90m String \u001b[0m\n",
       "─────┼───────────────\n",
       "   1 │     1  M\n",
       "   2 │     2  F\n",
       "   3 │     3  F\n",
       "   4 │     4  M"
      ]
     },
     "execution_count": 10,
     "metadata": {},
     "output_type": "execute_result"
    }
   ],
   "source": [
    "df = DataFrame(A = 1:4, B = [\"M\", \"F\", \"F\", \"M\"])"
   ]
  },
  {
   "cell_type": "code",
   "execution_count": 11,
   "metadata": {
    "ExecuteTime": {
     "end_time": "2020-12-31T15:09:45.883000-05:00",
     "start_time": "2020-12-31T20:09:34.751Z"
    }
   },
   "outputs": [
    {
     "data": {
      "text/plain": [
       "(true, 0x0158a4840f6f282a)"
      ]
     },
     "execution_count": 11,
     "metadata": {},
     "output_type": "execute_result"
    }
   ],
   "source": [
    "TM.can_copy_and_hash(df)"
   ]
  },
  {
   "cell_type": "code",
   "execution_count": 12,
   "metadata": {
    "ExecuteTime": {
     "end_time": "2020-12-31T15:09:46.597000-05:00",
     "start_time": "2020-12-31T20:09:34.752Z"
    }
   },
   "outputs": [
    {
     "data": {
      "text/plain": [
       "Dict{Any,Any} with 2 entries:\n",
       "  \"b\" => Dict{Any,Any}(#= circular reference @-1 =#)\n",
       "  \"a\" => \"hi there\""
      ]
     },
     "execution_count": 12,
     "metadata": {},
     "output_type": "execute_result"
    }
   ],
   "source": [
    "di = Dict()\n",
    "di[\"a\"] = \"hi there\"\n",
    "di[\"b\"] = di"
   ]
  },
  {
   "cell_type": "code",
   "execution_count": 13,
   "metadata": {
    "ExecuteTime": {
     "end_time": "2020-12-31T15:09:46.599000-05:00",
     "start_time": "2020-12-31T20:09:34.754Z"
    }
   },
   "outputs": [
    {
     "data": {
      "text/plain": [
       "(true, 0x650b61de1b4120f3)"
      ]
     },
     "execution_count": 13,
     "metadata": {},
     "output_type": "execute_result"
    }
   ],
   "source": [
    "TM.can_copy_and_hash(di)"
   ]
  },
  {
   "cell_type": "code",
   "execution_count": 14,
   "metadata": {
    "ExecuteTime": {
     "end_time": "2020-12-31T15:09:46.696000-05:00",
     "start_time": "2020-12-31T20:09:34.755Z"
    }
   },
   "outputs": [
    {
     "data": {
      "text/plain": [
       "(true, 0x3c7e5719f96b0437)"
      ]
     },
     "execution_count": 14,
     "metadata": {},
     "output_type": "execute_result"
    }
   ],
   "source": [
    "tup = (1, 2, \"three\")\n",
    "TM.can_copy_and_hash(tup)"
   ]
  },
  {
   "cell_type": "code",
   "execution_count": 15,
   "metadata": {
    "ExecuteTime": {
     "end_time": "2020-12-31T15:09:47.844000-05:00",
     "start_time": "2020-12-31T20:09:34.757Z"
    }
   },
   "outputs": [
    {
     "name": "stdout",
     "output_type": "stream",
     "text": [
      "(ntup.a, ntup.b) = (3, \"hi\")\n"
     ]
    },
    {
     "data": {
      "text/plain": [
       "(true, 0x24396107c58629f8)"
      ]
     },
     "execution_count": 15,
     "metadata": {},
     "output_type": "execute_result"
    }
   ],
   "source": [
    "ntup = (a = 3, b = \"hi\")\n",
    "@show ntup.a, ntup.b\n",
    "TM.can_copy_and_hash(ntup)"
   ]
  },
  {
   "cell_type": "code",
   "execution_count": 16,
   "metadata": {
    "ExecuteTime": {
     "end_time": "2020-12-31T15:09:48.678000-05:00",
     "start_time": "2020-12-31T20:09:34.758Z"
    }
   },
   "outputs": [
    {
     "data": {
      "text/plain": [
       "Dict{Any,Any} with 11 entries:\n",
       "  :df   => \u001b[1m4×2 DataFrame\u001b[0m…\n",
       "  :di   => Dict{Any,Any}(\"b\"=>Dict{Any,Any}(#= circular reference @-1 =#),\"a\"=>…\n",
       "  :x    => 1//1\n",
       "  :ntup => (a = 3, b = \"hi\")\n",
       "  :v    => [-1.28918, 0.871712, 1.27456, -0.657655]\n",
       "  :tup  => (1, 2, \"three\")\n",
       "  :x3   => 1//1\n",
       "  :x1   => 1\n",
       "  :m    => [-1.05695 -1.48253 -1.38155 0.436513; -1.68435 0.701055 -1.35064 -0.…\n",
       "  :x2   => 1.0\n",
       "  :t    => [0.978296 0.198225 1.74711 -0.727369; -1.4505 -0.962365 -0.298152 0.…"
      ]
     },
     "execution_count": 16,
     "metadata": {},
     "output_type": "execute_result"
    }
   ],
   "source": [
    "vars(IJulia.n - 1)"
   ]
  },
  {
   "cell_type": "code",
   "execution_count": null,
   "metadata": {},
   "outputs": [],
   "source": []
  }
 ],
 "metadata": {
  "kernelspec": {
   "display_name": "Julia 1.5.3",
   "language": "julia",
   "name": "julia-1.5"
  },
  "language_info": {
   "file_extension": ".jl",
   "mimetype": "application/julia",
   "name": "julia",
   "version": "1.5.3"
  },
  "toc": {
   "base_numbering": 1,
   "nav_menu": {},
   "number_sections": true,
   "sideBar": true,
   "skip_h1_title": false,
   "title_cell": "Table of Contents",
   "title_sidebar": "Contents",
   "toc_cell": false,
   "toc_position": {},
   "toc_section_display": true,
   "toc_window_display": false
  }
 },
 "nbformat": 4,
 "nbformat_minor": 4
}
