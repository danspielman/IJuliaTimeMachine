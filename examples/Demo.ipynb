{
 "cells": [
  {
   "cell_type": "markdown",
   "metadata": {},
   "source": [
    "This is a demonstration of the features of IJuliaTimeMachine."
   ]
  },
  {
   "cell_type": "markdown",
   "metadata": {
    "ExecuteTime": {
     "end_time": "2020-09-12T18:21:55.780000-04:00",
     "start_time": "2020-09-12T22:21:54.908Z"
    }
   },
   "source": [
    "# What IJulia Provides"
   ]
  },
  {
   "cell_type": "markdown",
   "metadata": {},
   "source": [
    "IJulia already provides some historical information. `In` records the inputs to cells, and `Out` records their outputs.  `IJulia.n` is the number of the current cell."
   ]
  },
  {
   "cell_type": "code",
   "execution_count": 1,
   "metadata": {
    "ExecuteTime": {
     "end_time": "2020-12-29T19:10:31.806000-05:00",
     "start_time": "2020-12-30T00:10:30.807Z"
    }
   },
   "outputs": [
    {
     "data": {
      "text/plain": [
       "2"
      ]
     },
     "execution_count": 1,
     "metadata": {},
     "output_type": "execute_result"
    }
   ],
   "source": [
    "1+1"
   ]
  },
  {
   "cell_type": "code",
   "execution_count": 2,
   "metadata": {
    "ExecuteTime": {
     "end_time": "2020-12-29T19:10:32.040000-05:00",
     "start_time": "2020-12-30T00:10:30.812Z"
    }
   },
   "outputs": [
    {
     "data": {
      "text/plain": [
       "\"1+1\""
      ]
     },
     "execution_count": 2,
     "metadata": {},
     "output_type": "execute_result"
    }
   ],
   "source": [
    "In[1]"
   ]
  },
  {
   "cell_type": "code",
   "execution_count": 3,
   "metadata": {
    "ExecuteTime": {
     "end_time": "2020-12-29T19:10:32.050000-05:00",
     "start_time": "2020-12-30T00:10:30.816Z"
    }
   },
   "outputs": [
    {
     "data": {
      "text/plain": [
       "2"
      ]
     },
     "execution_count": 3,
     "metadata": {},
     "output_type": "execute_result"
    }
   ],
   "source": [
    "Out[1]"
   ]
  },
  {
   "cell_type": "markdown",
   "metadata": {},
   "source": [
    "# Setting up IJuliaTimeMachine"
   ]
  },
  {
   "cell_type": "markdown",
   "metadata": {
    "ExecuteTime": {
     "end_time": "2020-09-12T18:23:58.718000-04:00",
     "start_time": "2020-09-12T22:23:58.149Z"
    }
   },
   "source": [
    "I recommend assigning `IJuliaTimeMachine` a shorter name, like `TM` as below."
   ]
  },
  {
   "cell_type": "code",
   "execution_count": 4,
   "metadata": {
    "ExecuteTime": {
     "end_time": "2020-12-29T19:10:33.969000-05:00",
     "start_time": "2020-12-30T00:10:30.821Z"
    }
   },
   "outputs": [
    {
     "name": "stderr",
     "output_type": "stream",
     "text": [
      "┌ Info: Precompiling IJuliaTimeMachine [c6113210-d3d9-4301-930e-a2f8bca719bb]\n",
      "└ @ Base loading.jl:1278\n"
     ]
    },
    {
     "data": {
      "text/plain": [
       "IJuliaTimeMachine"
      ]
     },
     "execution_count": 4,
     "metadata": {},
     "output_type": "execute_result"
    }
   ],
   "source": [
    "import IJuliaTimeMachine\n",
    "TM = IJuliaTimeMachine"
   ]
  },
  {
   "cell_type": "markdown",
   "metadata": {},
   "source": [
    "If you use it a lot, and don't want to keep typing the `TM` prefix, you can instead type `using IJuliaTimeMachine`.\n",
    "This will import `@past` and `vars`."
   ]
  },
  {
   "cell_type": "markdown",
   "metadata": {},
   "source": [
    "# Recalling past states"
   ]
  },
  {
   "cell_type": "code",
   "execution_count": 5,
   "metadata": {
    "ExecuteTime": {
     "end_time": "2020-12-29T19:10:34.096000-05:00",
     "start_time": "2020-12-30T00:10:30.826Z"
    }
   },
   "outputs": [
    {
     "data": {
      "text/plain": [
       "2"
      ]
     },
     "execution_count": 5,
     "metadata": {},
     "output_type": "execute_result"
    }
   ],
   "source": [
    "x = 1+1"
   ]
  },
  {
   "cell_type": "code",
   "execution_count": 6,
   "metadata": {
    "ExecuteTime": {
     "end_time": "2020-12-29T19:10:35.136000-05:00",
     "start_time": "2020-12-30T00:10:30.828Z"
    }
   },
   "outputs": [
    {
     "data": {
      "text/plain": [
       "3-element Array{Float64,1}:\n",
       "  0.3278969893228005\n",
       " -1.4969328684500842\n",
       "  1.1073820854652396"
      ]
     },
     "execution_count": 6,
     "metadata": {},
     "output_type": "execute_result"
    }
   ],
   "source": [
    "x = randn(3)"
   ]
  },
  {
   "cell_type": "markdown",
   "metadata": {},
   "source": [
    "Say that I just accidentally change the value of the variable `x`, and I'd like to know what it's value was after cell 5.  I can recover the state of variables from then with `@past`."
   ]
  },
  {
   "cell_type": "code",
   "execution_count": 7,
   "metadata": {
    "ExecuteTime": {
     "end_time": "2020-12-29T19:10:35.233000-05:00",
     "start_time": "2020-12-30T00:10:30.830Z"
    }
   },
   "outputs": [
    {
     "data": {
      "text/plain": [
       "2"
      ]
     },
     "execution_count": 7,
     "metadata": {},
     "output_type": "execute_result"
    }
   ],
   "source": [
    "TM.@past 5\n",
    "x"
   ]
  },
  {
   "cell_type": "markdown",
   "metadata": {},
   "source": [
    "The value of `ans` was also recalled."
   ]
  },
  {
   "cell_type": "code",
   "execution_count": 8,
   "metadata": {
    "ExecuteTime": {
     "end_time": "2020-12-29T19:10:35.234000-05:00",
     "start_time": "2020-12-30T00:10:30.833Z"
    }
   },
   "outputs": [
    {
     "data": {
      "text/plain": [
       "2"
      ]
     },
     "execution_count": 8,
     "metadata": {},
     "output_type": "execute_result"
    }
   ],
   "source": [
    "ans"
   ]
  },
  {
   "cell_type": "markdown",
   "metadata": {},
   "source": [
    "The Time Machine stores a `deepcopy` of every variable.  While this is inefficient, it allows us to recover a vector, even if some other cell changes one of its entries."
   ]
  },
  {
   "cell_type": "code",
   "execution_count": 9,
   "metadata": {
    "ExecuteTime": {
     "end_time": "2020-12-29T19:10:35.966000-05:00",
     "start_time": "2020-12-30T00:10:30.837Z"
    }
   },
   "outputs": [
    {
     "data": {
      "text/plain": [
       "4-element Array{Int64,1}:\n",
       " 1\n",
       " 2\n",
       " 3\n",
       " 4"
      ]
     },
     "execution_count": 9,
     "metadata": {},
     "output_type": "execute_result"
    }
   ],
   "source": [
    "vec = collect(1:4)"
   ]
  },
  {
   "cell_type": "code",
   "execution_count": 10,
   "metadata": {
    "ExecuteTime": {
     "end_time": "2020-12-29T19:10:35.970000-05:00",
     "start_time": "2020-12-30T00:10:30.840Z"
    }
   },
   "outputs": [
    {
     "data": {
      "text/plain": [
       "4-element Array{Int64,1}:\n",
       "   1\n",
       "   2\n",
       " 100\n",
       "   4"
      ]
     },
     "execution_count": 10,
     "metadata": {},
     "output_type": "execute_result"
    }
   ],
   "source": [
    "vec[3] = 100\n",
    "vec"
   ]
  },
  {
   "cell_type": "code",
   "execution_count": 57,
   "metadata": {
    "ExecuteTime": {
     "end_time": "2020-12-29T19:36:29.150000-05:00",
     "start_time": "2020-12-30T00:36:29.142Z"
    }
   },
   "outputs": [
    {
     "data": {
      "text/plain": [
       "4-element Array{Int64,1}:\n",
       " 1\n",
       " 2\n",
       " 3\n",
       " 4"
      ]
     },
     "execution_count": 57,
     "metadata": {},
     "output_type": "execute_result"
    }
   ],
   "source": [
    "TM.@past 9\n",
    "vec"
   ]
  },
  {
   "cell_type": "markdown",
   "metadata": {},
   "source": [
    "By default `@past` also recalls the output of the past cell, and so that output appears in the display."
   ]
  },
  {
   "cell_type": "code",
   "execution_count": 58,
   "metadata": {
    "ExecuteTime": {
     "end_time": "2020-12-29T19:36:45.152000-05:00",
     "start_time": "2020-12-30T00:36:45.144Z"
    }
   },
   "outputs": [
    {
     "data": {
      "text/plain": [
       "4-element Array{Int64,1}:\n",
       " 1\n",
       " 2\n",
       " 3\n",
       " 4"
      ]
     },
     "execution_count": 58,
     "metadata": {},
     "output_type": "execute_result"
    }
   ],
   "source": [
    "TM.@past 9"
   ]
  },
  {
   "cell_type": "markdown",
   "metadata": {},
   "source": [
    "This can be very useful because IJulia's Out stores a pointer to an array, rather than the array.\n",
    "This means that the value recalled can be changed, like this."
   ]
  },
  {
   "cell_type": "code",
   "execution_count": 13,
   "metadata": {
    "ExecuteTime": {
     "end_time": "2020-12-29T19:10:35.999000-05:00",
     "start_time": "2020-12-30T00:10:30.849Z"
    }
   },
   "outputs": [
    {
     "data": {
      "text/plain": [
       "3-element Array{Int64,1}:\n",
       " 1\n",
       " 2\n",
       " 3"
      ]
     },
     "execution_count": 13,
     "metadata": {},
     "output_type": "execute_result"
    }
   ],
   "source": [
    "y = [1;2;3]"
   ]
  },
  {
   "cell_type": "code",
   "execution_count": 14,
   "metadata": {
    "ExecuteTime": {
     "end_time": "2020-12-29T19:10:36-05:00",
     "start_time": "2020-12-30T00:10:30.854Z"
    }
   },
   "outputs": [
    {
     "data": {
      "text/plain": [
       "3-element Array{Int64,1}:\n",
       " 1\n",
       " 2\n",
       " 3"
      ]
     },
     "execution_count": 14,
     "metadata": {},
     "output_type": "execute_result"
    }
   ],
   "source": [
    "Out[13]"
   ]
  },
  {
   "cell_type": "code",
   "execution_count": 15,
   "metadata": {
    "ExecuteTime": {
     "end_time": "2020-12-29T19:10:36.002000-05:00",
     "start_time": "2020-12-30T00:10:30.856Z"
    }
   },
   "outputs": [
    {
     "data": {
      "text/plain": [
       "3-element Array{Int64,1}:\n",
       " 1\n",
       " 2\n",
       " 0"
      ]
     },
     "execution_count": 15,
     "metadata": {},
     "output_type": "execute_result"
    }
   ],
   "source": [
    "y[3] = 0\n",
    "Out[13]"
   ]
  },
  {
   "cell_type": "markdown",
   "metadata": {},
   "source": [
    "Note that the last element changed to a 0. This does not happen with the values stored by the Time Machine."
   ]
  },
  {
   "cell_type": "code",
   "execution_count": 16,
   "metadata": {
    "ExecuteTime": {
     "end_time": "2020-12-29T19:10:36.004000-05:00",
     "start_time": "2020-12-30T00:10:30.861Z"
    }
   },
   "outputs": [
    {
     "data": {
      "text/plain": [
       "3-element Array{Int64,1}:\n",
       " 1\n",
       " 2\n",
       " 3"
      ]
     },
     "execution_count": 16,
     "metadata": {},
     "output_type": "execute_result"
    }
   ],
   "source": [
    "TM.@past 13"
   ]
  },
  {
   "cell_type": "markdown",
   "metadata": {},
   "source": [
    "The Time Machine only stores variables it can effectively copy.\n",
    "Right now, it can not copy functions.  "
   ]
  },
  {
   "cell_type": "code",
   "execution_count": 17,
   "metadata": {
    "ExecuteTime": {
     "end_time": "2020-12-29T19:10:36.013000-05:00",
     "start_time": "2020-12-30T00:10:30.865Z"
    }
   },
   "outputs": [
    {
     "data": {
      "text/plain": [
       "1"
      ]
     },
     "execution_count": 17,
     "metadata": {},
     "output_type": "execute_result"
    }
   ],
   "source": [
    "cell = IJulia.n\n",
    "f(x) = x\n",
    "f(1)"
   ]
  },
  {
   "cell_type": "code",
   "execution_count": 18,
   "metadata": {
    "ExecuteTime": {
     "end_time": "2020-12-29T19:10:36.018000-05:00",
     "start_time": "2020-12-30T00:10:30.867Z"
    }
   },
   "outputs": [
    {
     "data": {
      "text/plain": [
       "2"
      ]
     },
     "execution_count": 18,
     "metadata": {},
     "output_type": "execute_result"
    }
   ],
   "source": [
    "y = 2\n",
    "f(x) = 2x\n",
    "f(1)"
   ]
  },
  {
   "cell_type": "code",
   "execution_count": 19,
   "metadata": {
    "ExecuteTime": {
     "end_time": "2020-12-29T19:10:36.020000-05:00",
     "start_time": "2020-12-30T00:10:30.870Z"
    }
   },
   "outputs": [
    {
     "data": {
      "text/plain": [
       "1"
      ]
     },
     "execution_count": 19,
     "metadata": {},
     "output_type": "execute_result"
    }
   ],
   "source": [
    "TM.@past cell"
   ]
  },
  {
   "cell_type": "code",
   "execution_count": 20,
   "metadata": {
    "ExecuteTime": {
     "end_time": "2020-12-29T19:10:36.021000-05:00",
     "start_time": "2020-12-30T00:10:30.872Z"
    }
   },
   "outputs": [
    {
     "data": {
      "text/plain": [
       "2"
      ]
     },
     "execution_count": 20,
     "metadata": {},
     "output_type": "execute_result"
    }
   ],
   "source": [
    "f(1)"
   ]
  },
  {
   "cell_type": "markdown",
   "metadata": {},
   "source": [
    "But, if the only thing that changes in a function is a global variable, then you can essentially recover the function."
   ]
  },
  {
   "cell_type": "code",
   "execution_count": 21,
   "metadata": {
    "ExecuteTime": {
     "end_time": "2020-12-29T19:10:36.340000-05:00",
     "start_time": "2020-12-30T00:10:30.876Z"
    }
   },
   "outputs": [
    {
     "data": {
      "text/plain": [
       "f (generic function with 1 method)"
      ]
     },
     "execution_count": 21,
     "metadata": {},
     "output_type": "execute_result"
    }
   ],
   "source": [
    "f(x) = y*x"
   ]
  },
  {
   "cell_type": "code",
   "execution_count": 22,
   "metadata": {
    "ExecuteTime": {
     "end_time": "2020-12-29T19:10:36.346000-05:00",
     "start_time": "2020-12-30T00:10:30.879Z"
    }
   },
   "outputs": [
    {
     "data": {
      "text/plain": [
       "3"
      ]
     },
     "execution_count": 22,
     "metadata": {},
     "output_type": "execute_result"
    }
   ],
   "source": [
    "cell = IJulia.n\n",
    "y = 3\n",
    "f(1)"
   ]
  },
  {
   "cell_type": "code",
   "execution_count": 23,
   "metadata": {
    "ExecuteTime": {
     "end_time": "2020-12-29T19:10:36.347000-05:00",
     "start_time": "2020-12-30T00:10:30.881Z"
    }
   },
   "outputs": [
    {
     "data": {
      "text/plain": [
       "4"
      ]
     },
     "execution_count": 23,
     "metadata": {},
     "output_type": "execute_result"
    }
   ],
   "source": [
    "y = 4\n",
    "f(1)"
   ]
  },
  {
   "cell_type": "code",
   "execution_count": 24,
   "metadata": {
    "ExecuteTime": {
     "end_time": "2020-12-29T19:10:36.348000-05:00",
     "start_time": "2020-12-30T00:10:30.882Z"
    }
   },
   "outputs": [
    {
     "data": {
      "text/plain": [
       "3"
      ]
     },
     "execution_count": 24,
     "metadata": {},
     "output_type": "execute_result"
    }
   ],
   "source": [
    "TM.@past cell"
   ]
  },
  {
   "cell_type": "code",
   "execution_count": 25,
   "metadata": {
    "ExecuteTime": {
     "end_time": "2020-12-29T19:10:36.350000-05:00",
     "start_time": "2020-12-30T00:10:30.885Z"
    }
   },
   "outputs": [
    {
     "data": {
      "text/plain": [
       "3"
      ]
     },
     "execution_count": 25,
     "metadata": {},
     "output_type": "execute_result"
    }
   ],
   "source": [
    "f(1)"
   ]
  },
  {
   "cell_type": "markdown",
   "metadata": {
    "ExecuteTime": {
     "end_time": "2020-09-12T19:56:42.708000-04:00",
     "start_time": "2020-09-12T23:56:36.464Z"
    }
   },
   "source": [
    "You can stop the Time Machine from saving."
   ]
  },
  {
   "cell_type": "code",
   "execution_count": 26,
   "metadata": {
    "ExecuteTime": {
     "end_time": "2020-12-29T19:10:36.447000-05:00",
     "start_time": "2020-12-30T00:10:30.887Z"
    }
   },
   "outputs": [
    {
     "data": {
      "text/plain": [
       "save_state (generic function with 1 method)"
      ]
     },
     "execution_count": 26,
     "metadata": {},
     "output_type": "execute_result"
    }
   ],
   "source": [
    "TM.saving!(false)"
   ]
  },
  {
   "cell_type": "code",
   "execution_count": 27,
   "metadata": {
    "ExecuteTime": {
     "end_time": "2020-12-29T19:10:36.449000-05:00",
     "start_time": "2020-12-30T00:10:30.889Z"
    }
   },
   "outputs": [
    {
     "data": {
      "text/plain": [
       "\"hello!\""
      ]
     },
     "execution_count": 27,
     "metadata": {},
     "output_type": "execute_result"
    }
   ],
   "source": [
    "z = \"hello!\""
   ]
  },
  {
   "cell_type": "code",
   "execution_count": 28,
   "metadata": {
    "ExecuteTime": {
     "end_time": "2020-12-29T19:10:36.976000-05:00",
     "start_time": "2020-12-30T00:10:30.891Z"
    }
   },
   "outputs": [
    {
     "ename": "LoadError",
     "evalue": "State 27 was not saved.",
     "output_type": "error",
     "traceback": [
      "State 27 was not saved.",
      "",
      "Stacktrace:",
      " [1] error(::String) at ./error.jl:33",
      " [2] top-level scope at /Users/spielman/Dropbox/dev/IJuliaTimeMachine/src/the_past.jl:76",
      " [3] include_string(::Function, ::Module, ::String, ::String) at ./loading.jl:1091"
     ]
    }
   ],
   "source": [
    "TM.@past 27"
   ]
  },
  {
   "cell_type": "markdown",
   "metadata": {},
   "source": [
    "And, you can make it start saving again."
   ]
  },
  {
   "cell_type": "code",
   "execution_count": 29,
   "metadata": {
    "ExecuteTime": {
     "end_time": "2020-12-29T19:10:37.810000-05:00",
     "start_time": "2020-12-30T00:10:30.894Z"
    }
   },
   "outputs": [
    {
     "data": {
      "text/plain": [
       "1-element Array{Function,1}:\n",
       " save_state (generic function with 1 method)"
      ]
     },
     "execution_count": 29,
     "metadata": {},
     "output_type": "execute_result"
    }
   ],
   "source": [
    "TM.saving!(true)"
   ]
  },
  {
   "cell_type": "code",
   "execution_count": 30,
   "metadata": {
    "ExecuteTime": {
     "end_time": "2020-12-29T19:10:37.834000-05:00",
     "start_time": "2020-12-30T00:10:30.896Z"
    }
   },
   "outputs": [
    {
     "data": {
      "text/plain": [
       "\"hi :)\""
      ]
     },
     "execution_count": 30,
     "metadata": {},
     "output_type": "execute_result"
    }
   ],
   "source": [
    "z = \"hi :)\""
   ]
  },
  {
   "cell_type": "code",
   "execution_count": 31,
   "metadata": {
    "ExecuteTime": {
     "end_time": "2020-12-29T19:10:37.836000-05:00",
     "start_time": "2020-12-30T00:10:30.897Z"
    }
   },
   "outputs": [
    {
     "data": {
      "text/plain": [
       "\"overwrite that\""
      ]
     },
     "execution_count": 31,
     "metadata": {},
     "output_type": "execute_result"
    }
   ],
   "source": [
    "z = \"overwrite that\""
   ]
  },
  {
   "cell_type": "code",
   "execution_count": 32,
   "metadata": {
    "ExecuteTime": {
     "end_time": "2020-12-29T19:10:37.837000-05:00",
     "start_time": "2020-12-30T00:10:30.899Z"
    }
   },
   "outputs": [
    {
     "data": {
      "text/plain": [
       "\"hi :)\""
      ]
     },
     "execution_count": 32,
     "metadata": {},
     "output_type": "execute_result"
    }
   ],
   "source": [
    "TM.@past 30\n",
    "z"
   ]
  },
  {
   "cell_type": "markdown",
   "metadata": {},
   "source": [
    "If we really want to forget the past, or just save memory, we can clear some history.  Just give a list of the cells to be cleared.  If no list is specified, it clears all of them. This is the safest option, because to free up the memory used by a variable, one must clear *every* cell in which that variable exists."
   ]
  },
  {
   "cell_type": "code",
   "execution_count": 33,
   "metadata": {
    "ExecuteTime": {
     "end_time": "2020-12-29T19:18:16.760000-05:00",
     "start_time": "2020-12-30T00:18:16.639Z"
    }
   },
   "outputs": [],
   "source": [
    "TM.clear_past([30])"
   ]
  },
  {
   "cell_type": "code",
   "execution_count": 34,
   "metadata": {
    "ExecuteTime": {
     "end_time": "2020-12-29T19:18:19.096000-05:00",
     "start_time": "2020-12-30T00:18:19.092Z"
    }
   },
   "outputs": [
    {
     "ename": "LoadError",
     "evalue": "State 30 was not saved.",
     "output_type": "error",
     "traceback": [
      "State 30 was not saved.",
      "",
      "Stacktrace:",
      " [1] error(::String) at ./error.jl:33",
      " [2] top-level scope at /Users/spielman/Dropbox/dev/IJuliaTimeMachine/src/the_past.jl:76",
      " [3] include_string(::Function, ::Module, ::String, ::String) at ./loading.jl:1091"
     ]
    }
   ],
   "source": [
    "TM.@past 30"
   ]
  },
  {
   "cell_type": "markdown",
   "metadata": {},
   "source": [
    "To see what can go wrong with a `clear_past` call, let's try getting rid of the array `[1;2;3]` which was bound to `y` in cell 13."
   ]
  },
  {
   "cell_type": "code",
   "execution_count": 35,
   "metadata": {
    "ExecuteTime": {
     "end_time": "2020-12-29T19:22:04.221000-05:00",
     "start_time": "2020-12-30T00:22:04.219Z"
    }
   },
   "outputs": [],
   "source": [
    "TM.clear_past([13])"
   ]
  },
  {
   "cell_type": "markdown",
   "metadata": {},
   "source": [
    "We can get a dictionary of the variables that are stored for any cell by using the `vars` function. If we generate this list for any cell after 13, we will see that `y` is still there."
   ]
  },
  {
   "cell_type": "code",
   "execution_count": 36,
   "metadata": {
    "ExecuteTime": {
     "end_time": "2020-12-29T19:23:34.294000-05:00",
     "start_time": "2020-12-30T00:23:33.563Z"
    }
   },
   "outputs": [
    {
     "data": {
      "text/plain": [
       "Dict{Any,Any} with 4 entries:\n",
       "  :vec  => [1, 2, 3, 4]\n",
       "  :y    => [1, 2, 3]\n",
       "  :cell => 17\n",
       "  :x    => 2"
      ]
     },
     "execution_count": 36,
     "metadata": {},
     "output_type": "execute_result"
    }
   ],
   "source": [
    "TM.vars(20)"
   ]
  },
  {
   "cell_type": "markdown",
   "metadata": {
    "ExecuteTime": {
     "end_time": "2020-09-12T18:47:28.107000-04:00",
     "start_time": "2020-09-12T22:47:28.102Z"
    }
   },
   "source": [
    "If you want to see exactly what was stored, or exactly what variables are being overwritten, look at `TM.VX.past`."
   ]
  },
  {
   "cell_type": "code",
   "execution_count": 35,
   "metadata": {
    "ExecuteTime": {
     "end_time": "2020-12-29T15:59:36.519000-05:00",
     "start_time": "2020-12-29T20:59:30.927Z"
    }
   },
   "outputs": [
    {
     "data": {
      "text/plain": [
       "Dict{Any,Any} with 4 entries:\n",
       "  :x    => 0x5a94851fb48a6e05\n",
       "  :y    => 0x867b4bb4c42e5661\n",
       "  :cell => 0x6fd433390b9283dd\n",
       "  :vec  => 0x8c7dfaa1a09ee6fa"
      ]
     },
     "execution_count": 35,
     "metadata": {},
     "output_type": "execute_result"
    }
   ],
   "source": [
    "TM.VX.past[23].vars"
   ]
  },
  {
   "cell_type": "code",
   "execution_count": 36,
   "metadata": {
    "ExecuteTime": {
     "end_time": "2020-12-29T15:59:36.521000-05:00",
     "start_time": "2020-12-29T20:59:30.929Z"
    }
   },
   "outputs": [
    {
     "data": {
      "text/plain": [
       "4"
      ]
     },
     "execution_count": 36,
     "metadata": {},
     "output_type": "execute_result"
    }
   ],
   "source": [
    "TM.VX.past[23].ans"
   ]
  },
  {
   "cell_type": "markdown",
   "metadata": {},
   "source": [
    "The big table of all the stored variables is `TM.VX.store`"
   ]
  },
  {
   "cell_type": "code",
   "execution_count": 37,
   "metadata": {
    "ExecuteTime": {
     "end_time": "2020-12-29T19:24:51.193000-05:00",
     "start_time": "2020-12-30T00:24:51.022Z"
    }
   },
   "outputs": [
    {
     "data": {
      "text/plain": [
       "Dict{Any,Any} with 13 entries:\n",
       "  0xc70ed234e0a3ad59 => 17\n",
       "  0xf4e13e0713120297 => \"hi :)\"\n",
       "  0x3688cf5d48899fa6 => 3\n",
       "  0x5a94851fb48a6e05 => 2\n",
       "  0x867b4bb4c42e5661 => 4\n",
       "  0x0296034ccc0d24cb => [1, 2, 0]\n",
       "  0x74350a76d34418a6 => [1, 2, 100, 4]\n",
       "  0x6fd433390b9283dd => 22\n",
       "  0x8c7dfaa1a09ee6fa => [1, 2, 3, 4]\n",
       "  0xd22721a98cab7f9d => [1, 2, 3]\n",
       "  0xb98a8ec9a0959679 => \"hello!\"\n",
       "  0x700bc5643854405f => \"overwrite that\"\n",
       "  0xe9a36d00ccdaa34c => [0.327897, -1.49693, 1.10738]"
      ]
     },
     "execution_count": 37,
     "metadata": {},
     "output_type": "execute_result"
    }
   ],
   "source": [
    "TM.VX.store"
   ]
  },
  {
   "cell_type": "markdown",
   "metadata": {},
   "source": [
    "These are stored by hash so that each piece of data is only stored once. This reduces wasted memory."
   ]
  },
  {
   "cell_type": "markdown",
   "metadata": {},
   "source": [
    "But, if you have some big piece of data that you do not want stored, you can tell the Time Machine not to do that.\n",
    "The function `dontsave_val` prevents the TM from saving any variable whose value equals the value of the variable given."
   ]
  },
  {
   "cell_type": "code",
   "execution_count": 38,
   "metadata": {
    "ExecuteTime": {
     "end_time": "2020-12-29T19:27:44.393000-05:00",
     "start_time": "2020-12-30T00:27:44.219Z"
    }
   },
   "outputs": [],
   "source": [
    "BIG = randn(1000,1000)\n",
    "TM.dontsave_val(BIG)"
   ]
  },
  {
   "cell_type": "code",
   "execution_count": 39,
   "metadata": {
    "ExecuteTime": {
     "end_time": "2020-12-29T19:27:53.940000-05:00",
     "start_time": "2020-12-30T00:27:53.908Z"
    }
   },
   "outputs": [
    {
     "data": {
      "text/plain": [
       "Dict{Any,Any} with 5 entries:\n",
       "  :vec  => [1, 2, 3, 4]\n",
       "  :y    => 3\n",
       "  :cell => 22\n",
       "  :z    => \"hi :)\"\n",
       "  :x    => 2"
      ]
     },
     "execution_count": 39,
     "metadata": {},
     "output_type": "execute_result"
    }
   ],
   "source": [
    "TM.vars(38)"
   ]
  },
  {
   "cell_type": "code",
   "execution_count": 55,
   "metadata": {
    "ExecuteTime": {
     "end_time": "2020-12-29T19:34:27.706000-05:00",
     "start_time": "2020-12-30T00:34:27.694Z"
    }
   },
   "outputs": [],
   "source": [
    "cell = IJulia.n\n",
    "X = 42\n",
    "TM.dontsave_val(X)"
   ]
  },
  {
   "cell_type": "code",
   "execution_count": 56,
   "metadata": {
    "ExecuteTime": {
     "end_time": "2020-12-29T19:34:33.078000-05:00",
     "start_time": "2020-12-30T00:34:33.069Z"
    }
   },
   "outputs": [
    {
     "data": {
      "text/plain": [
       "Dict{Any,Any} with 6 entries:\n",
       "  :vec  => [1, 2, 3, 4]\n",
       "  :y    => 3\n",
       "  :cell => 55\n",
       "  :zzz  => 1\n",
       "  :z    => \"hi :)\"\n",
       "  :x    => 2"
      ]
     },
     "execution_count": 56,
     "metadata": {},
     "output_type": "execute_result"
    }
   ],
   "source": [
    "TM.vars(cell)"
   ]
  },
  {
   "cell_type": "markdown",
   "metadata": {},
   "source": [
    "If we change the value of X, it will now be saved. If we change an entry of BIG this will not appear to be a change, because the hash of BIG records where the variable points, not the data "
   ]
  },
  {
   "cell_type": "code",
   "execution_count": 62,
   "metadata": {
    "ExecuteTime": {
     "end_time": "2020-12-29T22:17:13.181000-05:00",
     "start_time": "2020-12-30T03:17:13.144Z"
    }
   },
   "outputs": [
    {
     "ename": "LoadError",
     "evalue": "LoadError: UndefVarError: @trace not defined\nin expression starting at In[62]:1",
     "output_type": "error",
     "traceback": [
      "LoadError: UndefVarError: @trace not defined\nin expression starting at In[62]:1",
      "",
      "Stacktrace:",
      " [1] top-level scope",
      " [2] include_string(::Function, ::Module, ::String, ::String) at ./loading.jl:1091"
     ]
    }
   ],
   "source": [
    "@trace TM.can_copy(Int64)"
   ]
  },
  {
   "cell_type": "code",
   "execution_count": 41,
   "metadata": {
    "ExecuteTime": {
     "end_time": "2020-12-29T19:28:33.195000-05:00",
     "start_time": "2020-12-30T00:28:33.190Z"
    },
    "scrolled": true
   },
   "outputs": [
    {
     "data": {
      "text/plain": [
       "Dict{Any,Any} with 5 entries:\n",
       "  :vec  => [1, 2, 3, 4]\n",
       "  :y    => 3\n",
       "  :cell => 22\n",
       "  :z    => \"hi :)\"\n",
       "  :x    => 2"
      ]
     },
     "execution_count": 41,
     "metadata": {},
     "output_type": "execute_result"
    }
   ],
   "source": [
    "TM.vars(40)"
   ]
  },
  {
   "cell_type": "code",
   "execution_count": 45,
   "metadata": {
    "ExecuteTime": {
     "end_time": "2020-12-29T19:29:52.466000-05:00",
     "start_time": "2020-12-30T00:29:52.457Z"
    }
   },
   "outputs": [
    {
     "data": {
      "text/plain": [
       "0x82fb1301161f84e3"
      ]
     },
     "execution_count": 45,
     "metadata": {},
     "output_type": "execute_result"
    }
   ],
   "source": [
    "hash(TM.VX)"
   ]
  },
  {
   "cell_type": "code",
   "execution_count": 46,
   "metadata": {
    "ExecuteTime": {
     "end_time": "2020-12-29T19:29:56.513000-05:00",
     "start_time": "2020-12-30T00:29:56.509Z"
    }
   },
   "outputs": [
    {
     "data": {
      "text/plain": [
       "1"
      ]
     },
     "execution_count": 46,
     "metadata": {},
     "output_type": "execute_result"
    }
   ],
   "source": [
    "zzz = 1"
   ]
  },
  {
   "cell_type": "code",
   "execution_count": 47,
   "metadata": {
    "ExecuteTime": {
     "end_time": "2020-12-29T19:30:07.987000-05:00",
     "start_time": "2020-12-30T00:30:07.983Z"
    }
   },
   "outputs": [
    {
     "data": {
      "text/plain": [
       "0x82fb1301161f84e3"
      ]
     },
     "execution_count": 47,
     "metadata": {},
     "output_type": "execute_result"
    }
   ],
   "source": [
    "hash(TM.VX)"
   ]
  },
  {
   "cell_type": "code",
   "execution_count": 48,
   "metadata": {
    "ExecuteTime": {
     "end_time": "2020-12-29T19:31:32.548000-05:00",
     "start_time": "2020-12-30T00:31:32.491Z"
    }
   },
   "outputs": [],
   "source": [
    "big = randn(1000,1000)\n",
    "TM.dontsave_var(big)"
   ]
  },
  {
   "cell_type": "code",
   "execution_count": 51,
   "metadata": {
    "ExecuteTime": {
     "end_time": "2020-12-29T19:31:49.862000-05:00",
     "start_time": "2020-12-30T00:31:49.854Z"
    }
   },
   "outputs": [
    {
     "data": {
      "text/plain": [
       "Dict{Any,Any} with 6 entries:\n",
       "  :vec  => [1, 2, 3, 4]\n",
       "  :y    => 3\n",
       "  :cell => 22\n",
       "  :zzz  => 1\n",
       "  :z    => \"hi :)\"\n",
       "  :x    => 2"
      ]
     },
     "execution_count": 51,
     "metadata": {},
     "output_type": "execute_result"
    }
   ],
   "source": [
    "TM.vars(48)"
   ]
  },
  {
   "cell_type": "code",
   "execution_count": 52,
   "metadata": {
    "ExecuteTime": {
     "end_time": "2020-12-29T19:32:14.056000-05:00",
     "start_time": "2020-12-30T00:32:14.048Z"
    }
   },
   "outputs": [
    {
     "data": {
      "text/plain": [
       "0x5a94851fb48a6e05"
      ]
     },
     "execution_count": 52,
     "metadata": {},
     "output_type": "execute_result"
    }
   ],
   "source": [
    "hash(x)"
   ]
  },
  {
   "cell_type": "code",
   "execution_count": 53,
   "metadata": {
    "ExecuteTime": {
     "end_time": "2020-12-29T19:32:17.466000-05:00",
     "start_time": "2020-12-30T00:32:17.448Z"
    }
   },
   "outputs": [
    {
     "data": {
      "text/plain": [
       "0x5a94851fb48a6e05"
      ]
     },
     "execution_count": 53,
     "metadata": {},
     "output_type": "execute_result"
    }
   ],
   "source": [
    "hash(2)"
   ]
  },
  {
   "cell_type": "markdown",
   "metadata": {},
   "source": [
    "# Running big jobs in threads"
   ]
  },
  {
   "cell_type": "markdown",
   "metadata": {},
   "source": [
    "The other feature of Time Machine is that it lets you run intensive jobs in threads, so that you can get other work done while they are running.  If you have a multicore machine, you can also view this as a way to manage running a bunch of experiments from Jupyter.  The key is to wrap the jobs in `TM.@thread begin`, followed by `end`.  Jobs that are running inside a `@thread` block work on sandboxed variables. They start by copying all variables the exist when they are called. But, they do not change the values of any variables. To access the values of the variables they change, use `@past`.\n",
    "\n",
    "When the jobs finish, their result is stored in `Out`, and you can access their state from `past`.\n",
    "Unfortunately, if the jobs contain any print statements, they can show up in other cells.\n",
    "\n",
    "To see which jobs are running, look at `TM.running`.  `TM.finished` contains a list of those that have finished."
   ]
  },
  {
   "cell_type": "markdown",
   "metadata": {},
   "source": [
    "In the examples below, I will simulate the delay of a long-running job with `sleep`.  As you will see, results will change after jobs finish."
   ]
  },
  {
   "cell_type": "code",
   "execution_count": 37,
   "metadata": {
    "ExecuteTime": {
     "end_time": "2020-12-29T15:59:36.523000-05:00",
     "start_time": "2020-12-29T20:59:30.931Z"
    }
   },
   "outputs": [
    {
     "data": {
      "text/plain": [
       "1"
      ]
     },
     "execution_count": 37,
     "metadata": {},
     "output_type": "execute_result"
    }
   ],
   "source": [
    "x = collect(1:3)\n",
    "y = 1"
   ]
  },
  {
   "cell_type": "code",
   "execution_count": 38,
   "metadata": {
    "ExecuteTime": {
     "end_time": "2020-12-29T15:59:36.943000-05:00",
     "start_time": "2020-12-29T20:59:30.932Z"
    }
   },
   "outputs": [
    {
     "data": {
      "text/plain": [
       "Task (runnable) @0x0000000113cad450"
      ]
     },
     "execution_count": 38,
     "metadata": {},
     "output_type": "execute_result"
    }
   ],
   "source": [
    "t0 = time()\n",
    "n = IJulia.n\n",
    "TM.@thread begin\n",
    "    y = y + 1\n",
    "    push!(x,y)\n",
    "    sleep(5)\n",
    "    sum(y)\n",
    "end"
   ]
  },
  {
   "cell_type": "code",
   "execution_count": 39,
   "metadata": {
    "ExecuteTime": {
     "end_time": "2020-12-29T15:59:36.997000-05:00",
     "start_time": "2020-12-29T20:59:30.933Z"
    }
   },
   "outputs": [
    {
     "name": "stdout",
     "output_type": "stream",
     "text": [
      "After 0.42882800102233887 seconds.\n"
     ]
    },
    {
     "data": {
      "text/plain": [
       "Task (runnable) @0x0000000113cad450"
      ]
     },
     "execution_count": 39,
     "metadata": {},
     "output_type": "execute_result"
    }
   ],
   "source": [
    "println(\"After $(time() - t0) seconds.\")\n",
    "Out[n]"
   ]
  },
  {
   "cell_type": "code",
   "execution_count": 40,
   "metadata": {
    "ExecuteTime": {
     "end_time": "2020-12-29T15:59:47.021000-05:00",
     "start_time": "2020-12-29T20:59:30.934Z"
    }
   },
   "outputs": [],
   "source": [
    "sleep(10)"
   ]
  },
  {
   "cell_type": "code",
   "execution_count": 41,
   "metadata": {
    "ExecuteTime": {
     "end_time": "2020-12-29T15:59:47.023000-05:00",
     "start_time": "2020-12-29T20:59:30.936Z"
    }
   },
   "outputs": [
    {
     "name": "stdout",
     "output_type": "stream",
     "text": [
      "After 10.49637222290039 seconds.\n"
     ]
    },
    {
     "data": {
      "text/plain": [
       "2"
      ]
     },
     "execution_count": 41,
     "metadata": {},
     "output_type": "execute_result"
    }
   ],
   "source": [
    "println(\"After $(time() - t0) seconds.\")\n",
    "Out[n]"
   ]
  },
  {
   "cell_type": "code",
   "execution_count": 42,
   "metadata": {
    "ExecuteTime": {
     "end_time": "2020-12-29T15:59:47.353000-05:00",
     "start_time": "2020-12-29T20:59:30.937Z"
    }
   },
   "outputs": [
    {
     "data": {
      "text/plain": [
       "([1, 2, 3], 1)"
      ]
     },
     "execution_count": 42,
     "metadata": {},
     "output_type": "execute_result"
    }
   ],
   "source": [
    "x, y"
   ]
  },
  {
   "cell_type": "code",
   "execution_count": 43,
   "metadata": {
    "ExecuteTime": {
     "end_time": "2020-12-29T15:59:47.355000-05:00",
     "start_time": "2020-12-29T20:59:30.939Z"
    }
   },
   "outputs": [
    {
     "data": {
      "text/plain": [
       "([1, 2, 3, 2], 2)"
      ]
     },
     "execution_count": 43,
     "metadata": {},
     "output_type": "execute_result"
    }
   ],
   "source": [
    "TM.@past n\n",
    "x, y"
   ]
  },
  {
   "cell_type": "markdown",
   "metadata": {},
   "source": [
    "There is a subtle reason that I put the `sleep(10)` statement on a separate line.\n",
    "The output of finished jobs is only inserted into `Out` at the start of the execution of the first cell that is run after the job finishes. So, it is possible to go one cell without the output being correct.\n",
    "If you want to test it, put the `sleep(10)`  inside the next cell, and then run the cells in quick succession."
   ]
  },
  {
   "cell_type": "markdown",
   "metadata": {
    "ExecuteTime": {
     "end_time": "2020-09-12T18:57:39.559000-04:00",
     "start_time": "2020-09-12T22:57:39.554Z"
    }
   },
   "source": [
    "You can not put two `@thread` statements into one cell."
   ]
  },
  {
   "cell_type": "code",
   "execution_count": 44,
   "metadata": {
    "ExecuteTime": {
     "end_time": "2020-12-29T15:59:47.386000-05:00",
     "start_time": "2020-12-29T20:59:30.941Z"
    }
   },
   "outputs": [
    {
     "name": "stdout",
     "output_type": "stream",
     "text": [
      "@thread can be called at most once per cell.\n"
     ]
    }
   ],
   "source": [
    "n = IJulia.n\n",
    "TM.@thread begin\n",
    "    x = x + 1\n",
    "    y[1] = 3\n",
    "    sum(y)\n",
    "end\n",
    "TM.@thread begin\n",
    "    x = x + 1\n",
    "    y[1] = 4\n",
    "    sum(y)\n",
    "end"
   ]
  },
  {
   "cell_type": "markdown",
   "metadata": {},
   "source": [
    "But, you can have many running at once.  That's the point!"
   ]
  },
  {
   "cell_type": "code",
   "execution_count": 45,
   "metadata": {
    "ExecuteTime": {
     "end_time": "2020-12-29T15:59:47.465000-05:00",
     "start_time": "2020-12-29T20:59:30.943Z"
    }
   },
   "outputs": [
    {
     "data": {
      "text/plain": [
       "intense (generic function with 1 method)"
      ]
     },
     "execution_count": 45,
     "metadata": {},
     "output_type": "execute_result"
    }
   ],
   "source": [
    "function intense(n)\n",
    "    sleep(n)\n",
    "    println(\"I slept for $(n) seconds!\")\n",
    "    n^2\n",
    "end"
   ]
  },
  {
   "cell_type": "code",
   "execution_count": 46,
   "metadata": {
    "ExecuteTime": {
     "end_time": "2020-12-29T15:59:47.533000-05:00",
     "start_time": "2020-12-29T20:59:30.945Z"
    }
   },
   "outputs": [
    {
     "data": {
      "text/plain": [
       "Task (runnable) @0x0000000113caf3d0"
      ]
     },
     "execution_count": 46,
     "metadata": {},
     "output_type": "execute_result"
    }
   ],
   "source": [
    "t0 = time()\n",
    "n1 = IJulia.n\n",
    "TM.@thread intense(10)"
   ]
  },
  {
   "cell_type": "code",
   "execution_count": 47,
   "metadata": {
    "ExecuteTime": {
     "end_time": "2020-12-29T15:59:47.592000-05:00",
     "start_time": "2020-12-29T20:59:30.947Z"
    }
   },
   "outputs": [
    {
     "name": "stdout",
     "output_type": "stream",
     "text": [
      "After 0.0682060718536377 seconds\n"
     ]
    },
    {
     "data": {
      "text/plain": [
       "Task (runnable) @0x0000000114a20d90"
      ]
     },
     "execution_count": 47,
     "metadata": {},
     "output_type": "execute_result"
    }
   ],
   "source": [
    "println(\"After $(time()-t0) seconds\")\n",
    "n2 = IJulia.n\n",
    "TM.@thread intense(11)"
   ]
  },
  {
   "cell_type": "code",
   "execution_count": 48,
   "metadata": {
    "ExecuteTime": {
     "end_time": "2020-12-29T15:59:47.663000-05:00",
     "start_time": "2020-12-29T20:59:30.948Z"
    }
   },
   "outputs": [
    {
     "name": "stdout",
     "output_type": "stream",
     "text": [
      "After 0.127471923828125 seconds\n"
     ]
    },
    {
     "data": {
      "text/plain": [
       "Task (runnable) @0x0000000115412890"
      ]
     },
     "execution_count": 48,
     "metadata": {},
     "output_type": "execute_result"
    }
   ],
   "source": [
    "println(\"After $(time()-t0) seconds\")\n",
    "n3 = IJulia.n\n",
    "TM.@thread intense(2)"
   ]
  },
  {
   "cell_type": "code",
   "execution_count": 49,
   "metadata": {
    "ExecuteTime": {
     "end_time": "2020-12-29T15:59:48.361000-05:00",
     "start_time": "2020-12-29T20:59:30.950Z"
    }
   },
   "outputs": [
    {
     "name": "stdout",
     "output_type": "stream",
     "text": [
      "After 0.1977980136871338 seconds\n"
     ]
    },
    {
     "data": {
      "text/plain": [
       "Set{Any} with 3 elements:\n",
       "  47\n",
       "  48\n",
       "  46"
      ]
     },
     "execution_count": 49,
     "metadata": {},
     "output_type": "execute_result"
    }
   ],
   "source": [
    "println(\"After $(time()-t0) seconds\")\n",
    "TM.running"
   ]
  },
  {
   "cell_type": "code",
   "execution_count": 50,
   "metadata": {
    "ExecuteTime": {
     "end_time": "2020-12-29T15:59:51.364000-05:00",
     "start_time": "2020-12-29T20:59:30.951Z"
    }
   },
   "outputs": [
    {
     "name": "stdout",
     "output_type": "stream",
     "text": [
      "I slept for 2 seconds!\n"
     ]
    }
   ],
   "source": [
    "sleep(3)"
   ]
  },
  {
   "cell_type": "code",
   "execution_count": 51,
   "metadata": {
    "ExecuteTime": {
     "end_time": "2020-12-29T15:59:51.366000-05:00",
     "start_time": "2020-12-29T20:59:30.953Z"
    }
   },
   "outputs": [
    {
     "name": "stdout",
     "output_type": "stream",
     "text": [
      "After 3.899488925933838 seconds\n"
     ]
    },
    {
     "data": {
      "text/plain": [
       "Set{Any} with 2 elements:\n",
       "  47\n",
       "  46"
      ]
     },
     "execution_count": 51,
     "metadata": {},
     "output_type": "execute_result"
    }
   ],
   "source": [
    "println(\"After $(time()-t0) seconds\")\n",
    "TM.running"
   ]
  },
  {
   "cell_type": "code",
   "execution_count": 52,
   "metadata": {
    "ExecuteTime": {
     "end_time": "2020-12-29T15:59:51.368000-05:00",
     "start_time": "2020-12-29T20:59:30.955Z"
    }
   },
   "outputs": [
    {
     "name": "stdout",
     "output_type": "stream",
     "text": [
      "After 3.901526927947998 seconds\n"
     ]
    },
    {
     "data": {
      "text/plain": [
       "2-element Array{Int64,1}:\n",
       " 38\n",
       " 48"
      ]
     },
     "execution_count": 52,
     "metadata": {},
     "output_type": "execute_result"
    }
   ],
   "source": [
    "println(\"After $(time()-t0) seconds\")\n",
    "TM.finished"
   ]
  },
  {
   "cell_type": "code",
   "execution_count": 53,
   "metadata": {
    "ExecuteTime": {
     "end_time": "2020-12-29T16:00:01.385000-05:00",
     "start_time": "2020-12-29T20:59:30.957Z"
    }
   },
   "outputs": [
    {
     "name": "stdout",
     "output_type": "stream",
     "text": [
      "I slept for 10 seconds!\n",
      "I slept for 11 seconds!\n",
      "After 13.90711498260498 seconds\n"
     ]
    },
    {
     "data": {
      "text/plain": [
       "Set{Any}()"
      ]
     },
     "execution_count": 53,
     "metadata": {},
     "output_type": "execute_result"
    }
   ],
   "source": [
    "sleep(10)\n",
    "println(\"After $(time()-t0) seconds\")\n",
    "TM.running"
   ]
  },
  {
   "cell_type": "code",
   "execution_count": 54,
   "metadata": {
    "ExecuteTime": {
     "end_time": "2020-12-29T16:00:01.680000-05:00",
     "start_time": "2020-12-29T20:59:30.958Z"
    }
   },
   "outputs": [
    {
     "data": {
      "text/plain": [
       "(100, 121, 4)"
      ]
     },
     "execution_count": 54,
     "metadata": {},
     "output_type": "execute_result"
    }
   ],
   "source": [
    "Out[n1], Out[n2], Out[n3]"
   ]
  },
  {
   "cell_type": "markdown",
   "metadata": {},
   "source": [
    "You can also get notifications of when jobs finish.\n",
    "These can be sent to Jupyter, in which case they will just print.\n",
    "You can also send them to the terminal in which Jupyter is running, or both."
   ]
  },
  {
   "cell_type": "code",
   "execution_count": 55,
   "metadata": {
    "ExecuteTime": {
     "end_time": "2020-12-29T16:00:01.742000-05:00",
     "start_time": "2020-12-29T20:59:30.960Z"
    }
   },
   "outputs": [
    {
     "name": "stdout",
     "output_type": "stream",
     "text": [
      "this will run for 3 seconds\n"
     ]
    },
    {
     "data": {
      "text/plain": [
       "Task (runnable) @0x0000000113caead0"
      ]
     },
     "execution_count": 55,
     "metadata": {},
     "output_type": "execute_result"
    },
    {
     "name": "stdout",
     "output_type": "stream",
     "text": [
      "Cell 55 finished.\n"
     ]
    }
   ],
   "source": [
    "TM.notify_jupyter!(true)\n",
    "TM.notify_terminal!(true)\n",
    "@TM.thread begin\n",
    "    println(\"this will run for 3 seconds\")\n",
    "    sleep(3)\n",
    "end"
   ]
  },
  {
   "cell_type": "code",
   "execution_count": null,
   "metadata": {},
   "outputs": [],
   "source": []
  }
 ],
 "metadata": {
  "@webio": {
   "lastCommId": null,
   "lastKernelId": null
  },
  "kernelspec": {
   "display_name": "Julia 1.5.3",
   "language": "julia",
   "name": "julia-1.5"
  },
  "language_info": {
   "file_extension": ".jl",
   "mimetype": "application/julia",
   "name": "julia",
   "version": "1.5.3"
  },
  "toc": {
   "base_numbering": 1,
   "nav_menu": {},
   "number_sections": true,
   "sideBar": true,
   "skip_h1_title": false,
   "title_cell": "Table of Contents",
   "title_sidebar": "Contents",
   "toc_cell": false,
   "toc_position": {},
   "toc_section_display": true,
   "toc_window_display": false
  }
 },
 "nbformat": 4,
 "nbformat_minor": 4
}
