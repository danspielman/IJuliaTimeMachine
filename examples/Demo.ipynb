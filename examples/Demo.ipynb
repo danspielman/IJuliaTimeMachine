{
 "cells": [
  {
   "cell_type": "markdown",
   "metadata": {},
   "source": [
    "This is a demonstration of the features of IJuliaTimeMachine."
   ]
  },
  {
   "cell_type": "markdown",
   "metadata": {
    "ExecuteTime": {
     "end_time": "2020-09-12T18:21:55.780000-04:00",
     "start_time": "2020-09-12T22:21:54.908Z"
    }
   },
   "source": [
    "# What IJulia Provides"
   ]
  },
  {
   "cell_type": "markdown",
   "metadata": {},
   "source": [
    "IJulia already provides some historical information. `In` records the inputs to cells, and `Out` records their outputs.  `IJulia.n` is the number of the current cell."
   ]
  },
  {
   "cell_type": "code",
   "execution_count": 1,
   "metadata": {
    "ExecuteTime": {
     "end_time": "2020-09-12T19:56:37.969000-04:00",
     "start_time": "2020-09-12T23:56:36.387Z"
    }
   },
   "outputs": [
    {
     "data": {
      "text/plain": [
       "2"
      ]
     },
     "execution_count": 1,
     "metadata": {},
     "output_type": "execute_result"
    }
   ],
   "source": [
    "1+1"
   ]
  },
  {
   "cell_type": "code",
   "execution_count": 2,
   "metadata": {
    "ExecuteTime": {
     "end_time": "2020-09-12T19:56:38.392000-04:00",
     "start_time": "2020-09-12T23:56:36.389Z"
    }
   },
   "outputs": [
    {
     "data": {
      "text/plain": [
       "\"1+1\""
      ]
     },
     "execution_count": 2,
     "metadata": {},
     "output_type": "execute_result"
    }
   ],
   "source": [
    "In[1]"
   ]
  },
  {
   "cell_type": "code",
   "execution_count": 3,
   "metadata": {
    "ExecuteTime": {
     "end_time": "2020-09-12T19:56:38.423000-04:00",
     "start_time": "2020-09-12T23:56:36.390Z"
    }
   },
   "outputs": [
    {
     "data": {
      "text/plain": [
       "2"
      ]
     },
     "execution_count": 3,
     "metadata": {},
     "output_type": "execute_result"
    }
   ],
   "source": [
    "Out[1]"
   ]
  },
  {
   "cell_type": "markdown",
   "metadata": {},
   "source": [
    "# Setting up IJuliaTimeMachine"
   ]
  },
  {
   "cell_type": "markdown",
   "metadata": {
    "ExecuteTime": {
     "end_time": "2020-09-12T18:23:58.718000-04:00",
     "start_time": "2020-09-12T22:23:58.149Z"
    }
   },
   "source": [
    "I recommend assigning `IJuliaTimeMachine` a shorter name, like `TM` as below."
   ]
  },
  {
   "cell_type": "code",
   "execution_count": 4,
   "metadata": {
    "ExecuteTime": {
     "end_time": "2020-09-12T19:56:38.939000-04:00",
     "start_time": "2020-09-12T23:56:36.392Z"
    }
   },
   "outputs": [
    {
     "data": {
      "text/plain": [
       "IJuliaTimeMachine"
      ]
     },
     "execution_count": 4,
     "metadata": {},
     "output_type": "execute_result"
    }
   ],
   "source": [
    "using IJuliaTimeMachine\n",
    "TM = IJuliaTimeMachine"
   ]
  },
  {
   "cell_type": "markdown",
   "metadata": {},
   "source": [
    "# Recalling past states"
   ]
  },
  {
   "cell_type": "code",
   "execution_count": 5,
   "metadata": {
    "ExecuteTime": {
     "end_time": "2020-09-12T19:56:38.990000-04:00",
     "start_time": "2020-09-12T23:56:36.406Z"
    }
   },
   "outputs": [
    {
     "data": {
      "text/plain": [
       "2"
      ]
     },
     "execution_count": 5,
     "metadata": {},
     "output_type": "execute_result"
    }
   ],
   "source": [
    "x = 1+1"
   ]
  },
  {
   "cell_type": "code",
   "execution_count": 6,
   "metadata": {
    "ExecuteTime": {
     "end_time": "2020-09-12T19:56:40.369000-04:00",
     "start_time": "2020-09-12T23:56:36.408Z"
    }
   },
   "outputs": [
    {
     "data": {
      "text/plain": [
       "3-element Array{Float64,1}:\n",
       " -0.24030020543345268\n",
       "  0.7336980057784359\n",
       "  0.24837340039245423"
      ]
     },
     "execution_count": 6,
     "metadata": {},
     "output_type": "execute_result"
    }
   ],
   "source": [
    "x = randn(3)"
   ]
  },
  {
   "cell_type": "markdown",
   "metadata": {},
   "source": [
    "Say that I just accidentally change the value of the variable `x`, and I'd like to know what it's value was after cell 5.  I can recover the state of variables from then with `@past`."
   ]
  },
  {
   "cell_type": "code",
   "execution_count": 7,
   "metadata": {
    "ExecuteTime": {
     "end_time": "2020-09-12T19:56:40.522000-04:00",
     "start_time": "2020-09-12T23:56:36.410Z"
    }
   },
   "outputs": [
    {
     "data": {
      "text/plain": [
       "2"
      ]
     },
     "execution_count": 7,
     "metadata": {},
     "output_type": "execute_result"
    }
   ],
   "source": [
    "TM.@past 5\n",
    "x"
   ]
  },
  {
   "cell_type": "markdown",
   "metadata": {},
   "source": [
    "The value of `ans` was also recalled."
   ]
  },
  {
   "cell_type": "code",
   "execution_count": 8,
   "metadata": {
    "ExecuteTime": {
     "end_time": "2020-09-12T19:56:40.523000-04:00",
     "start_time": "2020-09-12T23:56:36.412Z"
    }
   },
   "outputs": [
    {
     "data": {
      "text/plain": [
       "2"
      ]
     },
     "execution_count": 8,
     "metadata": {},
     "output_type": "execute_result"
    }
   ],
   "source": [
    "ans"
   ]
  },
  {
   "cell_type": "markdown",
   "metadata": {},
   "source": [
    "The Time Machine stores a `deepcopy` of every variable.  While this is inefficient, it allows us to recover a vector, even if some other cell changes one of its entries."
   ]
  },
  {
   "cell_type": "code",
   "execution_count": 9,
   "metadata": {
    "ExecuteTime": {
     "end_time": "2020-09-12T19:56:41.787000-04:00",
     "start_time": "2020-09-12T23:56:36.413Z"
    }
   },
   "outputs": [
    {
     "data": {
      "text/plain": [
       "4-element Array{Int64,1}:\n",
       " 1\n",
       " 2\n",
       " 3\n",
       " 4"
      ]
     },
     "execution_count": 9,
     "metadata": {},
     "output_type": "execute_result"
    }
   ],
   "source": [
    "vec = collect(1:4)"
   ]
  },
  {
   "cell_type": "code",
   "execution_count": 10,
   "metadata": {
    "ExecuteTime": {
     "end_time": "2020-09-12T19:56:41.789000-04:00",
     "start_time": "2020-09-12T23:56:36.415Z"
    }
   },
   "outputs": [
    {
     "data": {
      "text/plain": [
       "4-element Array{Int64,1}:\n",
       "   1\n",
       "   2\n",
       " 100\n",
       "   4"
      ]
     },
     "execution_count": 10,
     "metadata": {},
     "output_type": "execute_result"
    }
   ],
   "source": [
    "vec[3] = 100\n",
    "vec"
   ]
  },
  {
   "cell_type": "code",
   "execution_count": 11,
   "metadata": {
    "ExecuteTime": {
     "end_time": "2020-09-12T19:56:41.793000-04:00",
     "start_time": "2020-09-12T23:56:36.416Z"
    }
   },
   "outputs": [
    {
     "data": {
      "text/plain": [
       "4-element Array{Int64,1}:\n",
       " 1\n",
       " 2\n",
       " 3\n",
       " 4"
      ]
     },
     "execution_count": 11,
     "metadata": {},
     "output_type": "execute_result"
    }
   ],
   "source": [
    "TM.@past 9"
   ]
  },
  {
   "cell_type": "markdown",
   "metadata": {},
   "source": [
    "By default `@past` also recalls the output of the past cell, and so that output appears in the display."
   ]
  },
  {
   "cell_type": "code",
   "execution_count": 12,
   "metadata": {
    "ExecuteTime": {
     "end_time": "2020-09-12T19:56:41.809000-04:00",
     "start_time": "2020-09-12T23:56:36.428Z"
    }
   },
   "outputs": [
    {
     "data": {
      "text/plain": [
       "4-element Array{Int64,1}:\n",
       " 1\n",
       " 2\n",
       " 3\n",
       " 4"
      ]
     },
     "execution_count": 12,
     "metadata": {},
     "output_type": "execute_result"
    }
   ],
   "source": [
    "vec"
   ]
  },
  {
   "cell_type": "markdown",
   "metadata": {},
   "source": [
    "This can be very useful because IJulia's Out stores a pointer to an array, rather than the array.\n",
    "This means that the value recalled can be changed, like this."
   ]
  },
  {
   "cell_type": "code",
   "execution_count": 13,
   "metadata": {
    "ExecuteTime": {
     "end_time": "2020-09-12T19:56:41.847000-04:00",
     "start_time": "2020-09-12T23:56:36.430Z"
    }
   },
   "outputs": [
    {
     "data": {
      "text/plain": [
       "3-element Array{Int64,1}:\n",
       " 1\n",
       " 2\n",
       " 3"
      ]
     },
     "execution_count": 13,
     "metadata": {},
     "output_type": "execute_result"
    }
   ],
   "source": [
    "y = [1;2;3]"
   ]
  },
  {
   "cell_type": "code",
   "execution_count": 14,
   "metadata": {
    "ExecuteTime": {
     "end_time": "2020-09-12T19:56:41.852000-04:00",
     "start_time": "2020-09-12T23:56:36.431Z"
    }
   },
   "outputs": [
    {
     "data": {
      "text/plain": [
       "3-element Array{Int64,1}:\n",
       " 1\n",
       " 2\n",
       " 3"
      ]
     },
     "execution_count": 14,
     "metadata": {},
     "output_type": "execute_result"
    }
   ],
   "source": [
    "Out[13]"
   ]
  },
  {
   "cell_type": "code",
   "execution_count": 15,
   "metadata": {
    "ExecuteTime": {
     "end_time": "2020-09-12T19:56:41.859000-04:00",
     "start_time": "2020-09-12T23:56:36.433Z"
    }
   },
   "outputs": [
    {
     "data": {
      "text/plain": [
       "3-element Array{Int64,1}:\n",
       " 1\n",
       " 2\n",
       " 0"
      ]
     },
     "execution_count": 15,
     "metadata": {},
     "output_type": "execute_result"
    }
   ],
   "source": [
    "y[3] = 0\n",
    "Out[13]"
   ]
  },
  {
   "cell_type": "markdown",
   "metadata": {},
   "source": [
    "Note that the last element changed to a 0. This does not happen with the values stored by the Time Machine."
   ]
  },
  {
   "cell_type": "code",
   "execution_count": 16,
   "metadata": {
    "ExecuteTime": {
     "end_time": "2020-09-12T19:56:41.866000-04:00",
     "start_time": "2020-09-12T23:56:36.435Z"
    }
   },
   "outputs": [
    {
     "data": {
      "text/plain": [
       "3-element Array{Int64,1}:\n",
       " 1\n",
       " 2\n",
       " 3"
      ]
     },
     "execution_count": 16,
     "metadata": {},
     "output_type": "execute_result"
    }
   ],
   "source": [
    "TM.@past 13"
   ]
  },
  {
   "cell_type": "markdown",
   "metadata": {},
   "source": [
    "The Time Machine only stores variables it can effectively copy.\n",
    "Right now, it can not copy functions.  "
   ]
  },
  {
   "cell_type": "code",
   "execution_count": 17,
   "metadata": {
    "ExecuteTime": {
     "end_time": "2020-09-12T19:56:41.879000-04:00",
     "start_time": "2020-09-12T23:56:36.436Z"
    }
   },
   "outputs": [
    {
     "data": {
      "text/plain": [
       "1"
      ]
     },
     "execution_count": 17,
     "metadata": {},
     "output_type": "execute_result"
    }
   ],
   "source": [
    "cell = IJulia.n\n",
    "f(x) = x\n",
    "f(1)"
   ]
  },
  {
   "cell_type": "code",
   "execution_count": 18,
   "metadata": {
    "ExecuteTime": {
     "end_time": "2020-09-12T19:56:41.892000-04:00",
     "start_time": "2020-09-12T23:56:36.438Z"
    }
   },
   "outputs": [
    {
     "data": {
      "text/plain": [
       "2"
      ]
     },
     "execution_count": 18,
     "metadata": {},
     "output_type": "execute_result"
    }
   ],
   "source": [
    "y = 2\n",
    "f(x) = 2x\n",
    "f(1)"
   ]
  },
  {
   "cell_type": "code",
   "execution_count": 19,
   "metadata": {
    "ExecuteTime": {
     "end_time": "2020-09-12T19:56:41.899000-04:00",
     "start_time": "2020-09-12T23:56:36.440Z"
    }
   },
   "outputs": [
    {
     "data": {
      "text/plain": [
       "1"
      ]
     },
     "execution_count": 19,
     "metadata": {},
     "output_type": "execute_result"
    }
   ],
   "source": [
    "TM.@past cell"
   ]
  },
  {
   "cell_type": "code",
   "execution_count": 20,
   "metadata": {
    "ExecuteTime": {
     "end_time": "2020-09-12T19:56:41.909000-04:00",
     "start_time": "2020-09-12T23:56:36.441Z"
    }
   },
   "outputs": [
    {
     "data": {
      "text/plain": [
       "2"
      ]
     },
     "execution_count": 20,
     "metadata": {},
     "output_type": "execute_result"
    }
   ],
   "source": [
    "f(1)"
   ]
  },
  {
   "cell_type": "markdown",
   "metadata": {},
   "source": [
    "But, if the only thing that changes in a function is a global variable, then you can essentially recover the function."
   ]
  },
  {
   "cell_type": "code",
   "execution_count": 21,
   "metadata": {
    "ExecuteTime": {
     "end_time": "2020-09-12T19:56:42.489000-04:00",
     "start_time": "2020-09-12T23:56:36.454Z"
    }
   },
   "outputs": [
    {
     "data": {
      "text/plain": [
       "f (generic function with 1 method)"
      ]
     },
     "execution_count": 21,
     "metadata": {},
     "output_type": "execute_result"
    }
   ],
   "source": [
    "f(x) = y*x"
   ]
  },
  {
   "cell_type": "code",
   "execution_count": 22,
   "metadata": {
    "ExecuteTime": {
     "end_time": "2020-09-12T19:56:42.504000-04:00",
     "start_time": "2020-09-12T23:56:36.456Z"
    }
   },
   "outputs": [
    {
     "data": {
      "text/plain": [
       "3"
      ]
     },
     "execution_count": 22,
     "metadata": {},
     "output_type": "execute_result"
    }
   ],
   "source": [
    "cell = IJulia.n\n",
    "y = 3\n",
    "f(1)"
   ]
  },
  {
   "cell_type": "code",
   "execution_count": 23,
   "metadata": {
    "ExecuteTime": {
     "end_time": "2020-09-12T19:56:42.509000-04:00",
     "start_time": "2020-09-12T23:56:36.457Z"
    }
   },
   "outputs": [
    {
     "data": {
      "text/plain": [
       "4"
      ]
     },
     "execution_count": 23,
     "metadata": {},
     "output_type": "execute_result"
    }
   ],
   "source": [
    "y = 4\n",
    "f(1)"
   ]
  },
  {
   "cell_type": "code",
   "execution_count": 24,
   "metadata": {
    "ExecuteTime": {
     "end_time": "2020-09-12T19:56:42.521000-04:00",
     "start_time": "2020-09-12T23:56:36.459Z"
    }
   },
   "outputs": [
    {
     "data": {
      "text/plain": [
       "3"
      ]
     },
     "execution_count": 24,
     "metadata": {},
     "output_type": "execute_result"
    }
   ],
   "source": [
    "TM.@past cell"
   ]
  },
  {
   "cell_type": "code",
   "execution_count": 25,
   "metadata": {
    "ExecuteTime": {
     "end_time": "2020-09-12T19:56:42.527000-04:00",
     "start_time": "2020-09-12T23:56:36.460Z"
    }
   },
   "outputs": [
    {
     "data": {
      "text/plain": [
       "3"
      ]
     },
     "execution_count": 25,
     "metadata": {},
     "output_type": "execute_result"
    }
   ],
   "source": [
    "f(1)"
   ]
  },
  {
   "cell_type": "markdown",
   "metadata": {
    "ExecuteTime": {
     "end_time": "2020-09-12T19:56:42.708000-04:00",
     "start_time": "2020-09-12T23:56:36.464Z"
    }
   },
   "source": [
    "You can stop the Time Machine from saving."
   ]
  },
  {
   "cell_type": "code",
   "execution_count": 26,
   "metadata": {
    "ExecuteTime": {
     "end_time": "2020-09-12T19:56:42.706000-04:00",
     "start_time": "2020-09-12T23:56:36.462Z"
    }
   },
   "outputs": [
    {
     "data": {
      "text/plain": [
       "save_state (generic function with 1 method)"
      ]
     },
     "execution_count": 26,
     "metadata": {},
     "output_type": "execute_result"
    }
   ],
   "source": [
    "TM.stop_saving()"
   ]
  },
  {
   "cell_type": "code",
   "execution_count": 27,
   "metadata": {
    "ExecuteTime": {
     "end_time": "2020-09-12T19:56:42.708000-04:00",
     "start_time": "2020-09-12T23:56:36.464Z"
    }
   },
   "outputs": [
    {
     "data": {
      "text/plain": [
       "\"hello!\""
      ]
     },
     "execution_count": 27,
     "metadata": {},
     "output_type": "execute_result"
    }
   ],
   "source": [
    "z = \"hello!\""
   ]
  },
  {
   "cell_type": "code",
   "execution_count": 28,
   "metadata": {
    "ExecuteTime": {
     "end_time": "2020-09-12T19:56:43.538000-04:00",
     "start_time": "2020-09-12T23:56:36.465Z"
    }
   },
   "outputs": [
    {
     "ename": "LoadError",
     "evalue": "State 27 was not saved.",
     "output_type": "error",
     "traceback": [
      "State 27 was not saved.",
      "",
      "Stacktrace:",
      " [1] error(::String) at ./error.jl:33",
      " [2] top-level scope at /Users/spielman/.julia/dev/IJuliaTimeMachine/src/the_past.jl:108",
      " [3] include_string(::Function, ::Module, ::String, ::String) at ./loading.jl:1091"
     ]
    }
   ],
   "source": [
    "TM.@past 27"
   ]
  },
  {
   "cell_type": "markdown",
   "metadata": {},
   "source": [
    "And, you can make it start saving again."
   ]
  },
  {
   "cell_type": "code",
   "execution_count": 29,
   "metadata": {
    "ExecuteTime": {
     "end_time": "2020-09-12T19:56:44.655000-04:00",
     "start_time": "2020-09-12T23:56:36.468Z"
    }
   },
   "outputs": [
    {
     "data": {
      "text/plain": [
       "1-element Array{Function,1}:\n",
       " save_state (generic function with 1 method)"
      ]
     },
     "execution_count": 29,
     "metadata": {},
     "output_type": "execute_result"
    }
   ],
   "source": [
    "TM.start_saving()"
   ]
  },
  {
   "cell_type": "code",
   "execution_count": 30,
   "metadata": {
    "ExecuteTime": {
     "end_time": "2020-09-12T19:56:44.716000-04:00",
     "start_time": "2020-09-12T23:56:36.470Z"
    }
   },
   "outputs": [
    {
     "data": {
      "text/plain": [
       "\"hi :)\""
      ]
     },
     "execution_count": 30,
     "metadata": {},
     "output_type": "execute_result"
    }
   ],
   "source": [
    "z = \"hi :)\""
   ]
  },
  {
   "cell_type": "code",
   "execution_count": 31,
   "metadata": {
    "ExecuteTime": {
     "end_time": "2020-09-12T19:56:44.719000-04:00",
     "start_time": "2020-09-12T23:56:36.471Z"
    }
   },
   "outputs": [
    {
     "data": {
      "text/plain": [
       "\"overwrite that\""
      ]
     },
     "execution_count": 31,
     "metadata": {},
     "output_type": "execute_result"
    }
   ],
   "source": [
    "z = \"overwrite that\""
   ]
  },
  {
   "cell_type": "code",
   "execution_count": 32,
   "metadata": {
    "ExecuteTime": {
     "end_time": "2020-09-12T19:56:44.766000-04:00",
     "start_time": "2020-09-12T23:56:36.473Z"
    }
   },
   "outputs": [
    {
     "data": {
      "text/plain": [
       "\"hi :)\""
      ]
     },
     "execution_count": 32,
     "metadata": {},
     "output_type": "execute_result"
    }
   ],
   "source": [
    "TM.@past 30\n",
    "z"
   ]
  },
  {
   "cell_type": "markdown",
   "metadata": {},
   "source": [
    "If we really want to forget the past, or just save memory, we can clear some history.  Just give a list of the cells to be cleared.  If no list is specified, it clears all of them."
   ]
  },
  {
   "cell_type": "code",
   "execution_count": 33,
   "metadata": {
    "ExecuteTime": {
     "end_time": "2020-09-12T19:56:44.896000-04:00",
     "start_time": "2020-09-12T23:56:36.475Z"
    }
   },
   "outputs": [],
   "source": [
    "TM.clear_past([30])"
   ]
  },
  {
   "cell_type": "code",
   "execution_count": 34,
   "metadata": {
    "ExecuteTime": {
     "end_time": "2020-09-12T19:56:44.915000-04:00",
     "start_time": "2020-09-12T23:56:36.477Z"
    }
   },
   "outputs": [
    {
     "ename": "LoadError",
     "evalue": "State 30 was not saved.",
     "output_type": "error",
     "traceback": [
      "State 30 was not saved.",
      "",
      "Stacktrace:",
      " [1] error(::String) at ./error.jl:33",
      " [2] top-level scope at /Users/spielman/.julia/dev/IJuliaTimeMachine/src/the_past.jl:108",
      " [3] include_string(::Function, ::Module, ::String, ::String) at ./loading.jl:1091"
     ]
    }
   ],
   "source": [
    "TM.@past 30"
   ]
  },
  {
   "cell_type": "markdown",
   "metadata": {
    "ExecuteTime": {
     "end_time": "2020-09-12T18:47:28.107000-04:00",
     "start_time": "2020-09-12T22:47:28.102Z"
    }
   },
   "source": [
    "If you want to see exactly what was stored, or exactly what variables are being overwritten, look at `TM.past`."
   ]
  },
  {
   "cell_type": "code",
   "execution_count": 35,
   "metadata": {
    "ExecuteTime": {
     "end_time": "2020-09-12T19:56:45.807000-04:00",
     "start_time": "2020-09-12T23:56:36.479Z"
    }
   },
   "outputs": [
    {
     "data": {
      "text/plain": [
       "Dict{Any,Any} with 4 entries:\n",
       "  :x    => 2\n",
       "  :y    => 4\n",
       "  :cell => 22\n",
       "  :vec  => [1, 2, 3, 4]"
      ]
     },
     "execution_count": 35,
     "metadata": {},
     "output_type": "execute_result"
    }
   ],
   "source": [
    "TM.past[23].vars"
   ]
  },
  {
   "cell_type": "code",
   "execution_count": 36,
   "metadata": {
    "ExecuteTime": {
     "end_time": "2020-09-12T19:56:45.809000-04:00",
     "start_time": "2020-09-12T23:56:36.481Z"
    }
   },
   "outputs": [
    {
     "data": {
      "text/plain": [
       "4"
      ]
     },
     "execution_count": 36,
     "metadata": {},
     "output_type": "execute_result"
    }
   ],
   "source": [
    "TM.past[23].ans"
   ]
  },
  {
   "cell_type": "markdown",
   "metadata": {},
   "source": [
    "Right now, self-referential variables will cause an infinite recursion.  THIS BUG SHOULD BE FIXED."
   ]
  },
  {
   "cell_type": "code",
   "execution_count": 37,
   "metadata": {
    "ExecuteTime": {
     "end_time": "2020-09-12T19:56:46.526000-04:00",
     "start_time": "2020-09-12T23:56:36.483Z"
    }
   },
   "outputs": [
    {
     "ename": "StackOverflowError",
     "evalue": "StackOverflowError:",
     "output_type": "error",
     "traceback": [
      "StackOverflowError:",
      "",
      "Stacktrace:",
      " [1] _broadcast_getindex_evalf at ./broadcast.jl:648 [inlined]",
      " [2] _broadcast_getindex at ./broadcast.jl:621 [inlined]",
      " [3] getindex at ./broadcast.jl:575 [inlined]",
      " [4] copy at ./broadcast.jl:876 [inlined]",
      " [5] materialize at ./broadcast.jl:837 [inlined]",
      " [6] can_copy(::Array{Any,1}) at /Users/spielman/.julia/dev/IJuliaTimeMachine/src/the_past.jl:38",
      " ... (the last 6 lines are repeated 14435 more times)",
      " [86617] vars_to_state() at /Users/spielman/.julia/dev/IJuliaTimeMachine/src/the_past.jl:59",
      " [86618] save_state() at /Users/spielman/.julia/dev/IJuliaTimeMachine/src/the_past.jl:72",
      " [86619] #invokelatest#1 at ./essentials.jl:710 [inlined]",
      " [86620] invokelatest at ./essentials.jl:709 [inlined]",
      " [86621] execute_request(::ZMQ.Socket, ::IJulia.Msg) at /Users/spielman/.julia/packages/IJulia/tOM8L/src/execute_request.jl:101",
      " [86622] #invokelatest#1 at ./essentials.jl:710 [inlined]",
      " [86623] invokelatest at ./essentials.jl:709 [inlined]",
      " [86624] eventloop(::ZMQ.Socket) at /Users/spielman/.julia/packages/IJulia/tOM8L/src/eventloop.jl:8"
     ]
    }
   ],
   "source": [
    "x = []\n",
    "push!(x,x)\n",
    "x"
   ]
  },
  {
   "cell_type": "markdown",
   "metadata": {},
   "source": [
    "# Running big jobs in threads"
   ]
  },
  {
   "cell_type": "markdown",
   "metadata": {},
   "source": [
    "The other feature of Time Machine is that it lets you run intensive jobs in threads, so that you can get other work done while they are running.  If you have a multicore machine, you can also view this as a way to manage running a bunch of experiments from Jupyter.  The key is to wrap the jobs in `TM.@thread begin`, followed by `end`.  Jobs that are running inside a `@thread` block work on sandboxed variables. They start by copying all variables the exist when they are called. But, they do not change the values of any variables. To access the values of the variables they change, use `@past`.\n",
    "\n",
    "When the jobs finish, their result is stored in `Out`, and you can access their state from `past`.\n",
    "Unfortunately, if the jobs contain any print statements, they can show up in other cells.\n",
    "\n",
    "To see which jobs are running, look at `TM.running`.  `TM.finished` contains a list of those that have finished."
   ]
  },
  {
   "cell_type": "markdown",
   "metadata": {},
   "source": [
    "In the examples below, I will simulate the delay of a long-running job with `sleep`.  As you will see, results will change after jobs finish."
   ]
  },
  {
   "cell_type": "code",
   "execution_count": 38,
   "metadata": {
    "ExecuteTime": {
     "end_time": "2020-09-12T19:56:46.528000-04:00",
     "start_time": "2020-09-12T23:56:36.485Z"
    }
   },
   "outputs": [
    {
     "data": {
      "text/plain": [
       "1"
      ]
     },
     "execution_count": 38,
     "metadata": {},
     "output_type": "execute_result"
    }
   ],
   "source": [
    "x = collect(1:3)\n",
    "y = 1"
   ]
  },
  {
   "cell_type": "code",
   "execution_count": 39,
   "metadata": {
    "ExecuteTime": {
     "end_time": "2020-09-12T19:56:47.144000-04:00",
     "start_time": "2020-09-12T23:56:36.486Z"
    }
   },
   "outputs": [
    {
     "data": {
      "text/plain": [
       "Task (runnable) @0x000000011a3646d0"
      ]
     },
     "execution_count": 39,
     "metadata": {},
     "output_type": "execute_result"
    }
   ],
   "source": [
    "t0 = time()\n",
    "n = IJulia.n\n",
    "TM.@thread begin\n",
    "    y = y + 1\n",
    "    push!(x,y)\n",
    "    sleep(5)\n",
    "    sum(y)\n",
    "end"
   ]
  },
  {
   "cell_type": "code",
   "execution_count": 40,
   "metadata": {
    "ExecuteTime": {
     "end_time": "2020-09-12T19:56:47.179000-04:00",
     "start_time": "2020-09-12T23:56:36.488Z"
    }
   },
   "outputs": [
    {
     "name": "stdout",
     "output_type": "stream",
     "text": [
      "After 0.6105539798736572 seconds.\n"
     ]
    },
    {
     "data": {
      "text/plain": [
       "Task (runnable) @0x000000011a3646d0"
      ]
     },
     "execution_count": 40,
     "metadata": {},
     "output_type": "execute_result"
    }
   ],
   "source": [
    "println(\"After $(time() - t0) seconds.\")\n",
    "Out[n]"
   ]
  },
  {
   "cell_type": "code",
   "execution_count": 41,
   "metadata": {
    "ExecuteTime": {
     "end_time": "2020-09-12T19:56:57.190000-04:00",
     "start_time": "2020-09-12T23:56:36.490Z"
    }
   },
   "outputs": [],
   "source": [
    "sleep(10)"
   ]
  },
  {
   "cell_type": "code",
   "execution_count": 42,
   "metadata": {
    "ExecuteTime": {
     "end_time": "2020-09-12T19:56:57.209000-04:00",
     "start_time": "2020-09-12T23:56:36.491Z"
    }
   },
   "outputs": [
    {
     "name": "stdout",
     "output_type": "stream",
     "text": [
      "After 10.671794176101685 seconds.\n"
     ]
    },
    {
     "data": {
      "text/plain": [
       "2"
      ]
     },
     "execution_count": 42,
     "metadata": {},
     "output_type": "execute_result"
    }
   ],
   "source": [
    "println(\"After $(time() - t0) seconds.\")\n",
    "Out[n]"
   ]
  },
  {
   "cell_type": "code",
   "execution_count": 43,
   "metadata": {
    "ExecuteTime": {
     "end_time": "2020-09-12T19:56:57.653000-04:00",
     "start_time": "2020-09-12T23:56:36.492Z"
    }
   },
   "outputs": [
    {
     "data": {
      "text/plain": [
       "([1, 2, 3], 1)"
      ]
     },
     "execution_count": 43,
     "metadata": {},
     "output_type": "execute_result"
    }
   ],
   "source": [
    "x, y"
   ]
  },
  {
   "cell_type": "code",
   "execution_count": 44,
   "metadata": {
    "ExecuteTime": {
     "end_time": "2020-09-12T19:56:57.656000-04:00",
     "start_time": "2020-09-12T23:56:36.494Z"
    }
   },
   "outputs": [
    {
     "data": {
      "text/plain": [
       "([1, 2, 3, 2], 2)"
      ]
     },
     "execution_count": 44,
     "metadata": {},
     "output_type": "execute_result"
    }
   ],
   "source": [
    "TM.@past n\n",
    "x, y"
   ]
  },
  {
   "cell_type": "markdown",
   "metadata": {},
   "source": [
    "There is a subtle reason that I put the `sleep(10)` statement on a separate line.\n",
    "The output of finished jobs is only inserted into `Out` at the start of the execution of the first cell that is run after the job finishes. So, it is possible to go one cell without the output being correct.\n",
    "If you want to test it, put the `sleep(10)`  inside the next cell, and then run the cells in quick succession."
   ]
  },
  {
   "cell_type": "markdown",
   "metadata": {
    "ExecuteTime": {
     "end_time": "2020-09-12T18:57:39.559000-04:00",
     "start_time": "2020-09-12T22:57:39.554Z"
    }
   },
   "source": [
    "You can not put two `@thread` statements into one cell."
   ]
  },
  {
   "cell_type": "code",
   "execution_count": 45,
   "metadata": {
    "ExecuteTime": {
     "end_time": "2020-09-12T19:56:57.716000-04:00",
     "start_time": "2020-09-12T23:56:36.496Z"
    }
   },
   "outputs": [
    {
     "name": "stdout",
     "output_type": "stream",
     "text": [
      "@thread can be called at most once per cell.\n"
     ]
    }
   ],
   "source": [
    "n = IJulia.n\n",
    "TM.@thread begin\n",
    "    x = x + 1\n",
    "    y[1] = 3\n",
    "    sum(y)\n",
    "end\n",
    "TM.@thread begin\n",
    "    x = x + 1\n",
    "    y[1] = 4\n",
    "    sum(y)\n",
    "end"
   ]
  },
  {
   "cell_type": "markdown",
   "metadata": {},
   "source": [
    "But, you can have many running at once.  That's the point!"
   ]
  },
  {
   "cell_type": "code",
   "execution_count": 46,
   "metadata": {
    "ExecuteTime": {
     "end_time": "2020-09-12T19:56:57.845000-04:00",
     "start_time": "2020-09-12T23:56:36.497Z"
    }
   },
   "outputs": [
    {
     "data": {
      "text/plain": [
       "intense (generic function with 1 method)"
      ]
     },
     "execution_count": 46,
     "metadata": {},
     "output_type": "execute_result"
    }
   ],
   "source": [
    "function intense(n)\n",
    "    sleep(n)\n",
    "    println(\"I slept for $(n) seconds!\")\n",
    "    n^2\n",
    "end"
   ]
  },
  {
   "cell_type": "code",
   "execution_count": 47,
   "metadata": {
    "ExecuteTime": {
     "end_time": "2020-09-12T19:56:57.857000-04:00",
     "start_time": "2020-09-12T23:56:36.499Z"
    }
   },
   "outputs": [
    {
     "data": {
      "text/plain": [
       "Task (runnable) @0x000000011996c490"
      ]
     },
     "execution_count": 47,
     "metadata": {},
     "output_type": "execute_result"
    }
   ],
   "source": [
    "t0 = time()\n",
    "n1 = IJulia.n\n",
    "TM.@thread intense(10)"
   ]
  },
  {
   "cell_type": "code",
   "execution_count": 48,
   "metadata": {
    "ExecuteTime": {
     "end_time": "2020-09-12T19:56:57.947000-04:00",
     "start_time": "2020-09-12T23:56:36.500Z"
    }
   },
   "outputs": [
    {
     "name": "stdout",
     "output_type": "stream",
     "text": [
      "After 0.015318870544433594 seconds\n"
     ]
    },
    {
     "data": {
      "text/plain": [
       "Task (runnable) @0x000000011996c6d0"
      ]
     },
     "execution_count": 48,
     "metadata": {},
     "output_type": "execute_result"
    }
   ],
   "source": [
    "println(\"After $(time()-t0) seconds\")\n",
    "n2 = IJulia.n\n",
    "TM.@thread intense(11)"
   ]
  },
  {
   "cell_type": "code",
   "execution_count": 49,
   "metadata": {
    "ExecuteTime": {
     "end_time": "2020-09-12T19:56:57.959000-04:00",
     "start_time": "2020-09-12T23:56:36.501Z"
    }
   },
   "outputs": [
    {
     "name": "stdout",
     "output_type": "stream",
     "text": [
      "After 0.10183596611022949 seconds\n"
     ]
    },
    {
     "data": {
      "text/plain": [
       "Task (runnable) @0x000000011996df90"
      ]
     },
     "execution_count": 49,
     "metadata": {},
     "output_type": "execute_result"
    }
   ],
   "source": [
    "println(\"After $(time()-t0) seconds\")\n",
    "n3 = IJulia.n\n",
    "TM.@thread intense(2)"
   ]
  },
  {
   "cell_type": "code",
   "execution_count": 50,
   "metadata": {
    "ExecuteTime": {
     "end_time": "2020-09-12T19:56:58.973000-04:00",
     "start_time": "2020-09-12T23:56:36.503Z"
    }
   },
   "outputs": [
    {
     "name": "stdout",
     "output_type": "stream",
     "text": [
      "After 0.12661099433898926 seconds\n"
     ]
    },
    {
     "data": {
      "text/plain": [
       "Set{Any} with 4 elements:\n",
       "  47\n",
       "  48\n",
       "  49\n",
       "  45"
      ]
     },
     "execution_count": 50,
     "metadata": {},
     "output_type": "execute_result"
    }
   ],
   "source": [
    "println(\"After $(time()-t0) seconds\")\n",
    "TM.running"
   ]
  },
  {
   "cell_type": "code",
   "execution_count": 51,
   "metadata": {
    "ExecuteTime": {
     "end_time": "2020-09-12T19:57:01.983000-04:00",
     "start_time": "2020-09-12T23:56:36.504Z"
    }
   },
   "outputs": [
    {
     "name": "stdout",
     "output_type": "stream",
     "text": [
      "I slept for 2 seconds!\n"
     ]
    }
   ],
   "source": [
    "sleep(3)"
   ]
  },
  {
   "cell_type": "code",
   "execution_count": 52,
   "metadata": {
    "ExecuteTime": {
     "end_time": "2020-09-12T19:57:01.989000-04:00",
     "start_time": "2020-09-12T23:56:36.505Z"
    }
   },
   "outputs": [
    {
     "name": "stdout",
     "output_type": "stream",
     "text": [
      "After 4.139596939086914 seconds\n"
     ]
    },
    {
     "data": {
      "text/plain": [
       "Set{Any} with 3 elements:\n",
       "  47\n",
       "  48\n",
       "  45"
      ]
     },
     "execution_count": 52,
     "metadata": {},
     "output_type": "execute_result"
    }
   ],
   "source": [
    "println(\"After $(time()-t0) seconds\")\n",
    "TM.running"
   ]
  },
  {
   "cell_type": "code",
   "execution_count": 53,
   "metadata": {
    "ExecuteTime": {
     "end_time": "2020-09-12T19:57:01.995000-04:00",
     "start_time": "2020-09-12T23:56:36.507Z"
    }
   },
   "outputs": [
    {
     "name": "stdout",
     "output_type": "stream",
     "text": [
      "After 4.1453399658203125 seconds\n"
     ]
    },
    {
     "data": {
      "text/plain": [
       "2-element Array{Int64,1}:\n",
       " 39\n",
       " 49"
      ]
     },
     "execution_count": 53,
     "metadata": {},
     "output_type": "execute_result"
    }
   ],
   "source": [
    "println(\"After $(time()-t0) seconds\")\n",
    "TM.finished"
   ]
  },
  {
   "cell_type": "code",
   "execution_count": 54,
   "metadata": {
    "ExecuteTime": {
     "end_time": "2020-09-12T19:57:12.054000-04:00",
     "start_time": "2020-09-12T23:56:36.508Z"
    }
   },
   "outputs": [
    {
     "name": "stdout",
     "output_type": "stream",
     "text": [
      "I slept for 10 seconds!\n",
      "I slept for 11 seconds!\n",
      "After 14.164037942886353 seconds\n"
     ]
    },
    {
     "data": {
      "text/plain": [
       "Set{Any} with 1 element:\n",
       "  45"
      ]
     },
     "execution_count": 54,
     "metadata": {},
     "output_type": "execute_result"
    }
   ],
   "source": [
    "sleep(10)\n",
    "println(\"After $(time()-t0) seconds\")\n",
    "TM.running"
   ]
  },
  {
   "cell_type": "code",
   "execution_count": 55,
   "metadata": {
    "ExecuteTime": {
     "end_time": "2020-09-12T19:57:12.483000-04:00",
     "start_time": "2020-09-12T23:56:36.510Z"
    }
   },
   "outputs": [
    {
     "data": {
      "text/plain": [
       "(100, 121, 4)"
      ]
     },
     "execution_count": 55,
     "metadata": {},
     "output_type": "execute_result"
    }
   ],
   "source": [
    "Out[n1], Out[n2], Out[n3]"
   ]
  },
  {
   "cell_type": "markdown",
   "metadata": {},
   "source": [
    "I don't know why cell 45 is listed as running.  That must be a bug!"
   ]
  },
  {
   "cell_type": "code",
   "execution_count": 56,
   "metadata": {
    "ExecuteTime": {
     "end_time": "2020-09-12T20:08:03.216000-04:00",
     "start_time": "2020-09-13T00:08:03.146Z"
    }
   },
   "outputs": [
    {
     "ename": "LoadError",
     "evalue": "KeyError: key 45 not found",
     "output_type": "error",
     "traceback": [
      "KeyError: key 45 not found",
      "",
      "Stacktrace:",
      " [1] getindex(::Dict{Int64,Any}, ::Int64) at ./dict.jl:467",
      " [2] top-level scope at In[56]:1",
      " [3] include_string(::Function, ::Module, ::String, ::String) at ./loading.jl:1091"
     ]
    }
   ],
   "source": [
    "Out[45]"
   ]
  },
  {
   "cell_type": "code",
   "execution_count": null,
   "metadata": {},
   "outputs": [],
   "source": []
  }
 ],
 "metadata": {
  "@webio": {
   "lastCommId": null,
   "lastKernelId": null
  },
  "kernelspec": {
   "display_name": "Julia 1.5.1",
   "language": "julia",
   "name": "julia-1.5"
  },
  "language_info": {
   "file_extension": ".jl",
   "mimetype": "application/julia",
   "name": "julia",
   "version": "1.5.1"
  },
  "toc": {
   "base_numbering": 1,
   "nav_menu": {},
   "number_sections": true,
   "sideBar": true,
   "skip_h1_title": false,
   "title_cell": "Table of Contents",
   "title_sidebar": "Contents",
   "toc_cell": false,
   "toc_position": {},
   "toc_section_display": true,
   "toc_window_display": false
  }
 },
 "nbformat": 4,
 "nbformat_minor": 4
}
