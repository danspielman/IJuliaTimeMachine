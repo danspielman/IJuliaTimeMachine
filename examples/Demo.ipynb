{
 "cells": [
  {
   "cell_type": "markdown",
   "metadata": {},
   "source": [
    "This is a demonstration of the features of IJuliaTimeMachine. It also explains some of the design choices."
   ]
  },
  {
   "cell_type": "markdown",
   "metadata": {
    "ExecuteTime": {
     "end_time": "2020-09-12T18:21:55.780000-04:00",
     "start_time": "2020-09-12T22:21:54.908Z"
    }
   },
   "source": [
    "# What IJulia Provides"
   ]
  },
  {
   "cell_type": "markdown",
   "metadata": {},
   "source": [
    "IJulia already provides some historical information. `In` records the inputs to cells, and `Out` records their outputs.  `IJulia.n` is the number of the current cell."
   ]
  },
  {
   "cell_type": "code",
   "execution_count": 1,
   "metadata": {
    "ExecuteTime": {
     "end_time": "2020-12-31T18:33:48.112000-05:00",
     "start_time": "2020-12-31T23:33:47.107Z"
    }
   },
   "outputs": [
    {
     "data": {
      "text/plain": [
       "2"
      ]
     },
     "execution_count": 1,
     "metadata": {},
     "output_type": "execute_result"
    }
   ],
   "source": [
    "1+1"
   ]
  },
  {
   "cell_type": "code",
   "execution_count": 2,
   "metadata": {
    "ExecuteTime": {
     "end_time": "2020-12-31T18:33:48.367000-05:00",
     "start_time": "2020-12-31T23:33:47.110Z"
    }
   },
   "outputs": [
    {
     "data": {
      "text/plain": [
       "\"1+1\""
      ]
     },
     "execution_count": 2,
     "metadata": {},
     "output_type": "execute_result"
    }
   ],
   "source": [
    "In[1]"
   ]
  },
  {
   "cell_type": "code",
   "execution_count": 3,
   "metadata": {
    "ExecuteTime": {
     "end_time": "2020-12-31T18:33:48.380000-05:00",
     "start_time": "2020-12-31T23:33:47.111Z"
    }
   },
   "outputs": [
    {
     "data": {
      "text/plain": [
       "2"
      ]
     },
     "execution_count": 3,
     "metadata": {},
     "output_type": "execute_result"
    }
   ],
   "source": [
    "Out[1]"
   ]
  },
  {
   "cell_type": "markdown",
   "metadata": {},
   "source": [
    "# Setting up IJuliaTimeMachine"
   ]
  },
  {
   "cell_type": "markdown",
   "metadata": {
    "ExecuteTime": {
     "end_time": "2020-09-12T18:23:58.718000-04:00",
     "start_time": "2020-09-12T22:23:58.149Z"
    }
   },
   "source": [
    "I recommend assigning `IJuliaTimeMachine` a shorter name, like `TM` as below."
   ]
  },
  {
   "cell_type": "code",
   "execution_count": 4,
   "metadata": {
    "ExecuteTime": {
     "end_time": "2020-12-31T18:33:48.805000-05:00",
     "start_time": "2020-12-31T23:33:47.113Z"
    }
   },
   "outputs": [
    {
     "data": {
      "text/plain": [
       "IJuliaTimeMachine"
      ]
     },
     "execution_count": 4,
     "metadata": {},
     "output_type": "execute_result"
    }
   ],
   "source": [
    "import IJuliaTimeMachine\n",
    "TM = IJuliaTimeMachine"
   ]
  },
  {
   "cell_type": "markdown",
   "metadata": {},
   "source": [
    "If you use it a lot, and don't want to keep typing the `TM` prefix, you can instead type `using IJuliaTimeMachine`.\n",
    "This will import `@past` and `vars`."
   ]
  },
  {
   "cell_type": "markdown",
   "metadata": {},
   "source": [
    "# Recalling past states"
   ]
  },
  {
   "cell_type": "code",
   "execution_count": 5,
   "metadata": {
    "ExecuteTime": {
     "end_time": "2020-12-31T18:33:48.928000-05:00",
     "start_time": "2020-12-31T23:33:47.116Z"
    }
   },
   "outputs": [
    {
     "data": {
      "text/plain": [
       "2"
      ]
     },
     "execution_count": 5,
     "metadata": {},
     "output_type": "execute_result"
    }
   ],
   "source": [
    "x = 1+1"
   ]
  },
  {
   "cell_type": "code",
   "execution_count": 6,
   "metadata": {
    "ExecuteTime": {
     "end_time": "2020-12-31T18:33:49.750000-05:00",
     "start_time": "2020-12-31T23:33:47.118Z"
    }
   },
   "outputs": [
    {
     "data": {
      "text/plain": [
       "3-element Array{Float64,1}:\n",
       " -0.07656817141946694\n",
       " -1.7219397904552953\n",
       " -1.6390299328866278"
      ]
     },
     "execution_count": 6,
     "metadata": {},
     "output_type": "execute_result"
    }
   ],
   "source": [
    "x = randn(3)"
   ]
  },
  {
   "cell_type": "markdown",
   "metadata": {},
   "source": [
    "Say that I just accidentally change the value of the variable `x`, and I'd like to know what it's value was after cell 5.  I can recover the state of variables from then with `@past`."
   ]
  },
  {
   "cell_type": "code",
   "execution_count": 7,
   "metadata": {
    "ExecuteTime": {
     "end_time": "2020-12-31T18:33:49.832000-05:00",
     "start_time": "2020-12-31T23:33:47.119Z"
    }
   },
   "outputs": [
    {
     "data": {
      "text/plain": [
       "2"
      ]
     },
     "execution_count": 7,
     "metadata": {},
     "output_type": "execute_result"
    }
   ],
   "source": [
    "TM.@past 5\n",
    "x"
   ]
  },
  {
   "cell_type": "markdown",
   "metadata": {},
   "source": [
    "The value of `ans` was also recalled."
   ]
  },
  {
   "cell_type": "code",
   "execution_count": 8,
   "metadata": {
    "ExecuteTime": {
     "end_time": "2020-12-31T18:33:49.833000-05:00",
     "start_time": "2020-12-31T23:33:47.121Z"
    }
   },
   "outputs": [
    {
     "data": {
      "text/plain": [
       "2"
      ]
     },
     "execution_count": 8,
     "metadata": {},
     "output_type": "execute_result"
    }
   ],
   "source": [
    "ans"
   ]
  },
  {
   "cell_type": "markdown",
   "metadata": {},
   "source": [
    "The Time Machine stores a `deepcopy` of every variable.  While this is inefficient, it allows us to recover a vector, even if some other cell changes one of its entries."
   ]
  },
  {
   "cell_type": "code",
   "execution_count": 9,
   "metadata": {
    "ExecuteTime": {
     "end_time": "2020-12-31T18:33:50.477000-05:00",
     "start_time": "2020-12-31T23:33:47.124Z"
    }
   },
   "outputs": [
    {
     "data": {
      "text/plain": [
       "4-element Array{Int64,1}:\n",
       " 1\n",
       " 2\n",
       " 3\n",
       " 4"
      ]
     },
     "execution_count": 9,
     "metadata": {},
     "output_type": "execute_result"
    }
   ],
   "source": [
    "vec = collect(1:4)"
   ]
  },
  {
   "cell_type": "code",
   "execution_count": 10,
   "metadata": {
    "ExecuteTime": {
     "end_time": "2020-12-31T18:33:50.479000-05:00",
     "start_time": "2020-12-31T23:33:47.125Z"
    }
   },
   "outputs": [
    {
     "data": {
      "text/plain": [
       "4-element Array{Int64,1}:\n",
       "   1\n",
       "   2\n",
       " 100\n",
       "   4"
      ]
     },
     "execution_count": 10,
     "metadata": {},
     "output_type": "execute_result"
    }
   ],
   "source": [
    "vec[3] = 100\n",
    "vec"
   ]
  },
  {
   "cell_type": "code",
   "execution_count": 11,
   "metadata": {
    "ExecuteTime": {
     "end_time": "2020-12-31T18:33:50.490000-05:00",
     "start_time": "2020-12-31T23:33:47.127Z"
    }
   },
   "outputs": [
    {
     "data": {
      "text/plain": [
       "4-element Array{Int64,1}:\n",
       " 1\n",
       " 2\n",
       " 3\n",
       " 4"
      ]
     },
     "execution_count": 11,
     "metadata": {},
     "output_type": "execute_result"
    }
   ],
   "source": [
    "TM.@past 9\n",
    "vec"
   ]
  },
  {
   "cell_type": "markdown",
   "metadata": {},
   "source": [
    "By default `@past` also recalls the output of the past cell, and so that output appears in the display."
   ]
  },
  {
   "cell_type": "code",
   "execution_count": 12,
   "metadata": {
    "ExecuteTime": {
     "end_time": "2020-12-31T18:33:50.491000-05:00",
     "start_time": "2020-12-31T23:33:47.128Z"
    }
   },
   "outputs": [
    {
     "data": {
      "text/plain": [
       "4-element Array{Int64,1}:\n",
       " 1\n",
       " 2\n",
       " 3\n",
       " 4"
      ]
     },
     "execution_count": 12,
     "metadata": {},
     "output_type": "execute_result"
    }
   ],
   "source": [
    "TM.@past 9"
   ]
  },
  {
   "cell_type": "markdown",
   "metadata": {},
   "source": [
    "This can be very useful because IJulia's Out stores a pointer to an array, rather than the array.\n",
    "This means that the value recalled can be changed, like this."
   ]
  },
  {
   "cell_type": "code",
   "execution_count": 13,
   "metadata": {
    "ExecuteTime": {
     "end_time": "2020-12-31T18:33:50.502000-05:00",
     "start_time": "2020-12-31T23:33:47.130Z"
    }
   },
   "outputs": [
    {
     "data": {
      "text/plain": [
       "3-element Array{Int64,1}:\n",
       " 1\n",
       " 2\n",
       " 3"
      ]
     },
     "execution_count": 13,
     "metadata": {},
     "output_type": "execute_result"
    }
   ],
   "source": [
    "y = [1;2;3]"
   ]
  },
  {
   "cell_type": "code",
   "execution_count": 14,
   "metadata": {
    "ExecuteTime": {
     "end_time": "2020-12-31T18:33:50.503000-05:00",
     "start_time": "2020-12-31T23:33:47.132Z"
    }
   },
   "outputs": [
    {
     "data": {
      "text/plain": [
       "3-element Array{Int64,1}:\n",
       " 1\n",
       " 2\n",
       " 3"
      ]
     },
     "execution_count": 14,
     "metadata": {},
     "output_type": "execute_result"
    }
   ],
   "source": [
    "Out[13]"
   ]
  },
  {
   "cell_type": "code",
   "execution_count": 15,
   "metadata": {
    "ExecuteTime": {
     "end_time": "2020-12-31T18:33:50.504000-05:00",
     "start_time": "2020-12-31T23:33:47.133Z"
    }
   },
   "outputs": [
    {
     "data": {
      "text/plain": [
       "3-element Array{Int64,1}:\n",
       " 1\n",
       " 2\n",
       " 0"
      ]
     },
     "execution_count": 15,
     "metadata": {},
     "output_type": "execute_result"
    }
   ],
   "source": [
    "y[3] = 0\n",
    "Out[13]"
   ]
  },
  {
   "cell_type": "markdown",
   "metadata": {},
   "source": [
    "Note that the last element changed to a 0. This does not happen with the values stored by the Time Machine."
   ]
  },
  {
   "cell_type": "code",
   "execution_count": 16,
   "metadata": {
    "ExecuteTime": {
     "end_time": "2020-12-31T18:33:50.505000-05:00",
     "start_time": "2020-12-31T23:33:47.135Z"
    }
   },
   "outputs": [
    {
     "data": {
      "text/plain": [
       "3-element Array{Int64,1}:\n",
       " 1\n",
       " 2\n",
       " 3"
      ]
     },
     "execution_count": 16,
     "metadata": {},
     "output_type": "execute_result"
    }
   ],
   "source": [
    "TM.@past 13"
   ]
  },
  {
   "cell_type": "markdown",
   "metadata": {},
   "source": [
    "The Time Machine only stores variables it can effectively copy.\n",
    "Right now, it can not copy functions.  "
   ]
  },
  {
   "cell_type": "code",
   "execution_count": 17,
   "metadata": {
    "ExecuteTime": {
     "end_time": "2020-12-31T18:33:50.512000-05:00",
     "start_time": "2020-12-31T23:33:47.137Z"
    }
   },
   "outputs": [
    {
     "data": {
      "text/plain": [
       "1"
      ]
     },
     "execution_count": 17,
     "metadata": {},
     "output_type": "execute_result"
    }
   ],
   "source": [
    "# note that cell is equal to the number of this cell, 17.\n",
    "cell = IJulia.n\n",
    "f(x) = x\n",
    "f(1)"
   ]
  },
  {
   "cell_type": "code",
   "execution_count": 18,
   "metadata": {
    "ExecuteTime": {
     "end_time": "2020-12-31T18:33:50.515000-05:00",
     "start_time": "2020-12-31T23:33:47.138Z"
    }
   },
   "outputs": [
    {
     "data": {
      "text/plain": [
       "2"
      ]
     },
     "execution_count": 18,
     "metadata": {},
     "output_type": "execute_result"
    }
   ],
   "source": [
    "y = 2\n",
    "f(x) = 2x\n",
    "f(1)"
   ]
  },
  {
   "cell_type": "code",
   "execution_count": 19,
   "metadata": {
    "ExecuteTime": {
     "end_time": "2020-12-31T18:33:50.516000-05:00",
     "start_time": "2020-12-31T23:33:47.140Z"
    }
   },
   "outputs": [
    {
     "data": {
      "text/plain": [
       "1"
      ]
     },
     "execution_count": 19,
     "metadata": {},
     "output_type": "execute_result"
    }
   ],
   "source": [
    "TM.@past cell"
   ]
  },
  {
   "cell_type": "code",
   "execution_count": 20,
   "metadata": {
    "ExecuteTime": {
     "end_time": "2020-12-31T18:33:50.518000-05:00",
     "start_time": "2020-12-31T23:33:47.141Z"
    }
   },
   "outputs": [
    {
     "data": {
      "text/plain": [
       "2"
      ]
     },
     "execution_count": 20,
     "metadata": {},
     "output_type": "execute_result"
    }
   ],
   "source": [
    "f(1)"
   ]
  },
  {
   "cell_type": "markdown",
   "metadata": {},
   "source": [
    "But, if the only thing that changes in a function is a global variable, then you can essentially recover the function."
   ]
  },
  {
   "cell_type": "code",
   "execution_count": 21,
   "metadata": {
    "ExecuteTime": {
     "end_time": "2020-12-31T18:33:50.735000-05:00",
     "start_time": "2020-12-31T23:33:47.143Z"
    }
   },
   "outputs": [
    {
     "data": {
      "text/plain": [
       "f (generic function with 1 method)"
      ]
     },
     "execution_count": 21,
     "metadata": {},
     "output_type": "execute_result"
    }
   ],
   "source": [
    "f(x) = y*x"
   ]
  },
  {
   "cell_type": "code",
   "execution_count": 22,
   "metadata": {
    "ExecuteTime": {
     "end_time": "2020-12-31T18:33:50.740000-05:00",
     "start_time": "2020-12-31T23:33:47.145Z"
    }
   },
   "outputs": [
    {
     "data": {
      "text/plain": [
       "3"
      ]
     },
     "execution_count": 22,
     "metadata": {},
     "output_type": "execute_result"
    }
   ],
   "source": [
    "cell = IJulia.n\n",
    "y = 3\n",
    "f(1)"
   ]
  },
  {
   "cell_type": "code",
   "execution_count": 23,
   "metadata": {
    "ExecuteTime": {
     "end_time": "2020-12-31T18:33:50.741000-05:00",
     "start_time": "2020-12-31T23:33:47.146Z"
    }
   },
   "outputs": [
    {
     "data": {
      "text/plain": [
       "4"
      ]
     },
     "execution_count": 23,
     "metadata": {},
     "output_type": "execute_result"
    }
   ],
   "source": [
    "y = 4\n",
    "f(1)"
   ]
  },
  {
   "cell_type": "code",
   "execution_count": 24,
   "metadata": {
    "ExecuteTime": {
     "end_time": "2020-12-31T18:33:50.743000-05:00",
     "start_time": "2020-12-31T23:33:47.148Z"
    }
   },
   "outputs": [
    {
     "data": {
      "text/plain": [
       "3"
      ]
     },
     "execution_count": 24,
     "metadata": {},
     "output_type": "execute_result"
    }
   ],
   "source": [
    "TM.@past cell"
   ]
  },
  {
   "cell_type": "code",
   "execution_count": 25,
   "metadata": {
    "ExecuteTime": {
     "end_time": "2020-12-31T18:33:50.744000-05:00",
     "start_time": "2020-12-31T23:33:47.149Z"
    }
   },
   "outputs": [
    {
     "data": {
      "text/plain": [
       "3"
      ]
     },
     "execution_count": 25,
     "metadata": {},
     "output_type": "execute_result"
    }
   ],
   "source": [
    "f(1)"
   ]
  },
  {
   "cell_type": "markdown",
   "metadata": {
    "ExecuteTime": {
     "end_time": "2020-09-12T19:56:42.708000-04:00",
     "start_time": "2020-09-12T23:56:36.464Z"
    }
   },
   "source": [
    "You can stop the Time Machine from saving."
   ]
  },
  {
   "cell_type": "code",
   "execution_count": 26,
   "metadata": {
    "ExecuteTime": {
     "end_time": "2020-12-31T18:33:50.815000-05:00",
     "start_time": "2020-12-31T23:33:47.151Z"
    }
   },
   "outputs": [
    {
     "data": {
      "text/plain": [
       "save_state (generic function with 1 method)"
      ]
     },
     "execution_count": 26,
     "metadata": {},
     "output_type": "execute_result"
    }
   ],
   "source": [
    "TM.saving!(false)"
   ]
  },
  {
   "cell_type": "code",
   "execution_count": 27,
   "metadata": {
    "ExecuteTime": {
     "end_time": "2020-12-31T18:33:50.816000-05:00",
     "start_time": "2020-12-31T23:33:47.152Z"
    }
   },
   "outputs": [
    {
     "data": {
      "text/plain": [
       "\"hello!\""
      ]
     },
     "execution_count": 27,
     "metadata": {},
     "output_type": "execute_result"
    }
   ],
   "source": [
    "z = \"hello!\""
   ]
  },
  {
   "cell_type": "code",
   "execution_count": 28,
   "metadata": {
    "ExecuteTime": {
     "end_time": "2020-12-31T18:33:51.212000-05:00",
     "start_time": "2020-12-31T23:33:47.154Z"
    }
   },
   "outputs": [
    {
     "ename": "LoadError",
     "evalue": "State 27 was not saved.",
     "output_type": "error",
     "traceback": [
      "State 27 was not saved.",
      "",
      "Stacktrace:",
      " [1] error(::String) at ./error.jl:33",
      " [2] top-level scope at /Users/spielman/Dropbox/dev/IJuliaTimeMachine/src/the_past.jl:98",
      " [3] include_string(::Function, ::Module, ::String, ::String) at ./loading.jl:1091"
     ]
    }
   ],
   "source": [
    "TM.@past 27"
   ]
  },
  {
   "cell_type": "markdown",
   "metadata": {},
   "source": [
    "And, you can make it start saving again."
   ]
  },
  {
   "cell_type": "code",
   "execution_count": 29,
   "metadata": {
    "ExecuteTime": {
     "end_time": "2020-12-31T18:33:52-05:00",
     "start_time": "2020-12-31T23:33:47.155Z"
    }
   },
   "outputs": [
    {
     "data": {
      "text/plain": [
       "1-element Array{Function,1}:\n",
       " save_state (generic function with 1 method)"
      ]
     },
     "execution_count": 29,
     "metadata": {},
     "output_type": "execute_result"
    }
   ],
   "source": [
    "TM.saving!(true)"
   ]
  },
  {
   "cell_type": "code",
   "execution_count": 30,
   "metadata": {
    "ExecuteTime": {
     "end_time": "2020-12-31T18:33:52.024000-05:00",
     "start_time": "2020-12-31T23:33:47.157Z"
    }
   },
   "outputs": [
    {
     "data": {
      "text/plain": [
       "\"hi :)\""
      ]
     },
     "execution_count": 30,
     "metadata": {},
     "output_type": "execute_result"
    }
   ],
   "source": [
    "z = \"hi :)\""
   ]
  },
  {
   "cell_type": "code",
   "execution_count": 31,
   "metadata": {
    "ExecuteTime": {
     "end_time": "2020-12-31T18:33:52.025000-05:00",
     "start_time": "2020-12-31T23:33:47.158Z"
    }
   },
   "outputs": [
    {
     "data": {
      "text/plain": [
       "\"overwrite that\""
      ]
     },
     "execution_count": 31,
     "metadata": {},
     "output_type": "execute_result"
    }
   ],
   "source": [
    "z = \"overwrite that\""
   ]
  },
  {
   "cell_type": "code",
   "execution_count": 32,
   "metadata": {
    "ExecuteTime": {
     "end_time": "2020-12-31T18:33:52.027000-05:00",
     "start_time": "2020-12-31T23:33:47.160Z"
    }
   },
   "outputs": [
    {
     "data": {
      "text/plain": [
       "\"hi :)\""
      ]
     },
     "execution_count": 32,
     "metadata": {},
     "output_type": "execute_result"
    }
   ],
   "source": [
    "TM.@past 30\n",
    "z"
   ]
  },
  {
   "cell_type": "markdown",
   "metadata": {},
   "source": [
    "If we really want to forget the past, or just save memory, we can clear some history.  Just give a list of the cells to be cleared.  If no list is specified, it clears all of them. This is the safest option, because to free up the memory used by a variable, one must clear *every* cell in which that variable exists."
   ]
  },
  {
   "cell_type": "code",
   "execution_count": 33,
   "metadata": {
    "ExecuteTime": {
     "end_time": "2020-12-31T18:33:52.155000-05:00",
     "start_time": "2020-12-31T23:33:47.162Z"
    }
   },
   "outputs": [],
   "source": [
    "z = []\n",
    "TM.clear_past([30])"
   ]
  },
  {
   "cell_type": "code",
   "execution_count": 34,
   "metadata": {
    "ExecuteTime": {
     "end_time": "2020-12-31T18:33:52.157000-05:00",
     "start_time": "2020-12-31T23:33:47.163Z"
    }
   },
   "outputs": [
    {
     "ename": "LoadError",
     "evalue": "State 30 was not saved.",
     "output_type": "error",
     "traceback": [
      "State 30 was not saved.",
      "",
      "Stacktrace:",
      " [1] error(::String) at ./error.jl:33",
      " [2] top-level scope at /Users/spielman/Dropbox/dev/IJuliaTimeMachine/src/the_past.jl:98",
      " [3] include_string(::Function, ::Module, ::String, ::String) at ./loading.jl:1091"
     ]
    }
   ],
   "source": [
    "TM.@past 30"
   ]
  },
  {
   "cell_type": "markdown",
   "metadata": {},
   "source": [
    "But, this didn't get rid of the string \"hi :)\", because that string was also saved in cell 32.\n",
    "You can see that by using the `vars` function, which returns a dictionary of all the variables saved with a cell.\n",
    "To get rid of that string, we would need to clear cells 30 and 32."
   ]
  },
  {
   "cell_type": "code",
   "execution_count": 35,
   "metadata": {
    "ExecuteTime": {
     "end_time": "2020-12-31T18:33:52.792000-05:00",
     "start_time": "2020-12-31T23:33:47.165Z"
    }
   },
   "outputs": [
    {
     "data": {
      "text/plain": [
       "Dict{Any,Any} with 5 entries:\n",
       "  :vec  => [1, 2, 3, 4]\n",
       "  :y    => 3\n",
       "  :cell => 22\n",
       "  :z    => \"hi :)\"\n",
       "  :x    => 2"
      ]
     },
     "execution_count": 35,
     "metadata": {},
     "output_type": "execute_result"
    }
   ],
   "source": [
    "TM.vars(32)"
   ]
  },
  {
   "cell_type": "markdown",
   "metadata": {},
   "source": [
    "The big table of all the stored variables is `TM.VX.store`"
   ]
  },
  {
   "cell_type": "code",
   "execution_count": 36,
   "metadata": {
    "ExecuteTime": {
     "end_time": "2020-12-31T18:33:52.988000-05:00",
     "start_time": "2020-12-31T23:33:47.167Z"
    }
   },
   "outputs": [
    {
     "data": {
      "text/plain": [
       "Dict{Any,Any} with 14 entries:\n",
       "  0xf02d7561089106d2 => [1, 2, 3, 4]\n",
       "  0xc70ed234e0a3ad59 => 17\n",
       "  0xf15becc4be4c0cd4 => [-0.0765682, -1.72194, -1.63903]\n",
       "  0xf4e13e0713120297 => \"hi :)\"\n",
       "  0x3688cf5d48899fa6 => 3\n",
       "  0x5c97e8eedebac7cc => [1, 2, 100, 4]\n",
       "  0x5a94851fb48a6e05 => 2\n",
       "  0x40322bb383bc0a9c => [1, 2, 3]\n",
       "  0x867b4bb4c42e5661 => 4\n",
       "  0xf9dae1a92b5e5ba7 => Any[]\n",
       "  0x6fd433390b9283dd => 22\n",
       "  0xb98a8ec9a0959679 => \"hello!\"\n",
       "  0x700bc5643854405f => \"overwrite that\"\n",
       "  0x6680a11d7499012b => [1, 2, 0]"
      ]
     },
     "execution_count": 36,
     "metadata": {},
     "output_type": "execute_result"
    }
   ],
   "source": [
    "TM.VX.store"
   ]
  },
  {
   "cell_type": "code",
   "execution_count": 37,
   "metadata": {
    "ExecuteTime": {
     "end_time": "2020-12-31T18:33:53.018000-05:00",
     "start_time": "2020-12-31T23:33:47.168Z"
    }
   },
   "outputs": [],
   "source": [
    "z = []\n",
    "TM.clear_past(30:36)"
   ]
  },
  {
   "cell_type": "code",
   "execution_count": 38,
   "metadata": {
    "ExecuteTime": {
     "end_time": "2020-12-31T18:33:53.019000-05:00",
     "start_time": "2020-12-31T23:33:47.170Z"
    }
   },
   "outputs": [
    {
     "data": {
      "text/plain": [
       "Dict{Any,Any} with 12 entries:\n",
       "  0xf02d7561089106d2 => [1, 2, 3, 4]\n",
       "  0xc70ed234e0a3ad59 => 17\n",
       "  0xf15becc4be4c0cd4 => [-0.0765682, -1.72194, -1.63903]\n",
       "  0x3688cf5d48899fa6 => 3\n",
       "  0x5c97e8eedebac7cc => [1, 2, 100, 4]\n",
       "  0x5a94851fb48a6e05 => 2\n",
       "  0x40322bb383bc0a9c => [1, 2, 3]\n",
       "  0x867b4bb4c42e5661 => 4\n",
       "  0xf9dae1a92b5e5ba7 => Any[]\n",
       "  0x6fd433390b9283dd => 22\n",
       "  0xb98a8ec9a0959679 => \"hello!\"\n",
       "  0x6680a11d7499012b => [1, 2, 0]"
      ]
     },
     "execution_count": 38,
     "metadata": {},
     "output_type": "execute_result"
    }
   ],
   "source": [
    "TM.VX.store"
   ]
  },
  {
   "cell_type": "markdown",
   "metadata": {
    "ExecuteTime": {
     "end_time": "2020-09-12T18:47:28.107000-04:00",
     "start_time": "2020-09-12T22:47:28.102Z"
    }
   },
   "source": [
    "If you want to see the cell output that TM stored,look at `TM.ans(cell)`."
   ]
  },
  {
   "cell_type": "code",
   "execution_count": 39,
   "metadata": {
    "ExecuteTime": {
     "end_time": "2020-12-31T18:33:53.027000-05:00",
     "start_time": "2020-12-31T23:33:47.172Z"
    }
   },
   "outputs": [
    {
     "data": {
      "text/plain": [
       "4"
      ]
     },
     "execution_count": 39,
     "metadata": {},
     "output_type": "execute_result"
    }
   ],
   "source": [
    "TM.ans(23)"
   ]
  },
  {
   "cell_type": "markdown",
   "metadata": {},
   "source": [
    "Variables are stored by hash so that each piece of data is only stored once. This reduces wasted memory.\n",
    "Unfortunately, we can not use Julia's default hash function to do this, as small changes to data do not necessarily change this hash. Here are two examples of this problem."
   ]
  },
  {
   "cell_type": "code",
   "execution_count": 40,
   "metadata": {
    "ExecuteTime": {
     "end_time": "2020-12-31T18:33:53.440000-05:00",
     "start_time": "2020-12-31T23:33:47.174Z"
    }
   },
   "outputs": [
    {
     "data": {
      "text/plain": [
       "true"
      ]
     },
     "execution_count": 40,
     "metadata": {},
     "output_type": "execute_result"
    }
   ],
   "source": [
    "a = randn(1000,1000)\n",
    "h0 = hash(a)\n",
    "a[1,1] = 0\n",
    "h1 = hash(a)\n",
    "h0 == h1"
   ]
  },
  {
   "cell_type": "code",
   "execution_count": 41,
   "metadata": {
    "ExecuteTime": {
     "end_time": "2020-12-31T18:33:53.562000-05:00",
     "start_time": "2020-12-31T23:33:47.175Z"
    }
   },
   "outputs": [
    {
     "data": {
      "text/plain": [
       "true"
      ]
     },
     "execution_count": 41,
     "metadata": {},
     "output_type": "execute_result"
    }
   ],
   "source": [
    "mutable struct S\n",
    "    a\n",
    "end\n",
    "x = S(1)\n",
    "h0 = hash(x)\n",
    "x.a = 0\n",
    "h1 = hash(x)\n",
    "h0 == h1"
   ]
  },
  {
   "cell_type": "markdown",
   "metadata": {},
   "source": [
    "TM uses its own hash function to avoid this problem."
   ]
  },
  {
   "cell_type": "code",
   "execution_count": 42,
   "metadata": {
    "ExecuteTime": {
     "end_time": "2020-12-31T18:33:53.595000-05:00",
     "start_time": "2020-12-31T23:33:47.177Z"
    }
   },
   "outputs": [
    {
     "data": {
      "text/plain": [
       "false"
      ]
     },
     "execution_count": 42,
     "metadata": {},
     "output_type": "execute_result"
    }
   ],
   "source": [
    "a = randn(1000,1000)\n",
    "h0 = TM.tm_hash(a)\n",
    "a[1,1] = 0\n",
    "h1 = TM.tm_hash(a)\n",
    "h0 == h1"
   ]
  },
  {
   "cell_type": "code",
   "execution_count": 43,
   "metadata": {
    "ExecuteTime": {
     "end_time": "2020-12-31T18:33:53.610000-05:00",
     "start_time": "2020-12-31T23:33:47.179Z"
    }
   },
   "outputs": [
    {
     "data": {
      "text/plain": [
       "false"
      ]
     },
     "execution_count": 43,
     "metadata": {},
     "output_type": "execute_result"
    }
   ],
   "source": [
    "mutable struct S\n",
    "    a\n",
    "end\n",
    "x = S(1)\n",
    "h0 = TM.tm_hash(x)\n",
    "x.a = 0\n",
    "h1 = TM.tm_hash(x)\n",
    "h0 == h1"
   ]
  },
  {
   "cell_type": "markdown",
   "metadata": {},
   "source": [
    "Unfortunately, tm_hash is can be slow because it must examine every element of a data structure.\n",
    "But, you probably don't want to store a big chunk of data in the TM anyway.\n",
    "\n",
    "If you have some big piece of data that you do not want stored, you can tell the Time Machine not to do that.\n",
    "The function `dontsave` tells the TM not to store the variable it is given.\n",
    "But, if you copy the variable, the copy will be saved.\n",
    "Similarly, it will be saved if you bind the variable to a new piece of data."
   ]
  },
  {
   "cell_type": "code",
   "execution_count": 44,
   "metadata": {
    "ExecuteTime": {
     "end_time": "2020-12-31T18:33:53.622000-05:00",
     "start_time": "2020-12-31T23:33:47.181Z"
    }
   },
   "outputs": [],
   "source": [
    "BIG = randn(1000,1000)\n",
    "TM.dontsave(BIG)"
   ]
  },
  {
   "cell_type": "code",
   "execution_count": 45,
   "metadata": {
    "ExecuteTime": {
     "end_time": "2020-12-31T18:33:53.864000-05:00",
     "start_time": "2020-12-31T23:33:47.182Z"
    }
   },
   "outputs": [
    {
     "data": {
      "text/plain": [
       "Dict{Any,Any} with 9 entries:\n",
       "  :a    => [0.0 0.580431 … 0.0275737 -0.607591; 1.60128 0.293623 … 0.177615 -0.…\n",
       "  :vec  => [1, 2, 3, 4]\n",
       "  :h1   => 0x4330888b40615b85\n",
       "  :y    => 3\n",
       "  :h0   => 0xc0fb5ae483d856da\n",
       "  :cell => 22\n",
       "  :S    => S\n",
       "  :z    => Any[]\n",
       "  :x    => S(0)"
      ]
     },
     "execution_count": 45,
     "metadata": {},
     "output_type": "execute_result"
    }
   ],
   "source": [
    "TM.vars(IJulia.n - 1)"
   ]
  },
  {
   "cell_type": "code",
   "execution_count": 46,
   "metadata": {
    "ExecuteTime": {
     "end_time": "2020-12-31T18:33:53.871000-05:00",
     "start_time": "2020-12-31T23:33:47.184Z"
    }
   },
   "outputs": [
    {
     "data": {
      "text/plain": [
       "true"
      ]
     },
     "execution_count": 46,
     "metadata": {},
     "output_type": "execute_result"
    }
   ],
   "source": [
    "Y = BIG\n",
    "Y === BIG"
   ]
  },
  {
   "cell_type": "code",
   "execution_count": 47,
   "metadata": {
    "ExecuteTime": {
     "end_time": "2020-12-31T18:33:53.885000-05:00",
     "start_time": "2020-12-31T23:33:47.185Z"
    }
   },
   "outputs": [
    {
     "data": {
      "text/plain": [
       "Dict{Any,Any} with 9 entries:\n",
       "  :a    => [0.0 0.580431 … 0.0275737 -0.607591; 1.60128 0.293623 … 0.177615 -0.…\n",
       "  :vec  => [1, 2, 3, 4]\n",
       "  :h1   => 0x4330888b40615b85\n",
       "  :y    => 3\n",
       "  :h0   => 0xc0fb5ae483d856da\n",
       "  :cell => 22\n",
       "  :S    => S\n",
       "  :z    => Any[]\n",
       "  :x    => S(0)"
      ]
     },
     "execution_count": 47,
     "metadata": {},
     "output_type": "execute_result"
    }
   ],
   "source": [
    "# Y is not saved because it has the same binding as BIG\n",
    "TM.vars(IJulia.n - 1)"
   ]
  },
  {
   "cell_type": "code",
   "execution_count": 48,
   "metadata": {
    "ExecuteTime": {
     "end_time": "2020-12-31T18:33:54.160000-05:00",
     "start_time": "2020-12-31T23:33:47.187Z"
    }
   },
   "outputs": [
    {
     "data": {
      "text/plain": [
       "(false, true)"
      ]
     },
     "execution_count": 48,
     "metadata": {},
     "output_type": "execute_result"
    }
   ],
   "source": [
    "# now, Y has a different binding\n",
    "Y = copy(BIG)\n",
    "Y === BIG, Y == BIG"
   ]
  },
  {
   "cell_type": "code",
   "execution_count": 49,
   "metadata": {
    "ExecuteTime": {
     "end_time": "2020-12-31T18:33:54.186000-05:00",
     "start_time": "2020-12-31T23:33:47.188Z"
    }
   },
   "outputs": [
    {
     "data": {
      "text/plain": [
       "Dict{Any,Any} with 10 entries:\n",
       "  :a    => [0.0 0.580431 … 0.0275737 -0.607591; 1.60128 0.293623 … 0.177615 -0.…\n",
       "  :vec  => [1, 2, 3, 4]\n",
       "  :h1   => 0x4330888b40615b85\n",
       "  :y    => 3\n",
       "  :h0   => 0xc0fb5ae483d856da\n",
       "  :cell => 22\n",
       "  :S    => S\n",
       "  :Y    => [-1.23786 0.744897 … -1.28247 0.0257696; 0.585993 -1.45679 … -0.5606…\n",
       "  :z    => Any[]\n",
       "  :x    => S(0)"
      ]
     },
     "execution_count": 49,
     "metadata": {},
     "output_type": "execute_result"
    }
   ],
   "source": [
    "TM.vars(IJulia.n - 1)"
   ]
  },
  {
   "cell_type": "code",
   "execution_count": 50,
   "metadata": {
    "ExecuteTime": {
     "end_time": "2020-12-31T18:33:54.197000-05:00",
     "start_time": "2020-12-31T23:33:47.190Z"
    }
   },
   "outputs": [
    {
     "data": {
      "text/plain": [
       "0"
      ]
     },
     "execution_count": 50,
     "metadata": {},
     "output_type": "execute_result"
    }
   ],
   "source": [
    "# This does not change the binding of BIG\n",
    "BIG[1,1] = 0"
   ]
  },
  {
   "cell_type": "code",
   "execution_count": 51,
   "metadata": {
    "ExecuteTime": {
     "end_time": "2020-12-31T18:33:54.223000-05:00",
     "start_time": "2020-12-31T23:33:47.191Z"
    }
   },
   "outputs": [
    {
     "data": {
      "text/plain": [
       "Dict{Any,Any} with 10 entries:\n",
       "  :a    => [0.0 0.580431 … 0.0275737 -0.607591; 1.60128 0.293623 … 0.177615 -0.…\n",
       "  :vec  => [1, 2, 3, 4]\n",
       "  :h1   => 0x4330888b40615b85\n",
       "  :y    => 3\n",
       "  :h0   => 0xc0fb5ae483d856da\n",
       "  :cell => 22\n",
       "  :S    => S\n",
       "  :Y    => [-1.23786 0.744897 … -1.28247 0.0257696; 0.585993 -1.45679 … -0.5606…\n",
       "  :z    => Any[]\n",
       "  :x    => S(0)"
      ]
     },
     "execution_count": 51,
     "metadata": {},
     "output_type": "execute_result"
    }
   ],
   "source": [
    "TM.vars(IJulia.n - 1)"
   ]
  },
  {
   "cell_type": "markdown",
   "metadata": {},
   "source": [
    "On this laptop, it takes about half a second to hash an 800MB array. If Jupyter is reacting slowly, hashing a big variable could be the reason. You can fix this by telling Jupyter to stop saving it. But, you won't loose it."
   ]
  },
  {
   "cell_type": "code",
   "execution_count": 52,
   "metadata": {
    "ExecuteTime": {
     "end_time": "2020-12-31T18:33:56.630000-05:00",
     "start_time": "2020-12-31T23:33:47.193Z"
    }
   },
   "outputs": [
    {
     "name": "stdout",
     "output_type": "stream",
     "text": [
      "  0.623984 seconds (2 allocations: 762.940 MiB, 8.07% gc time)\n",
      "Base.summarysize(BIG) = 800000048\n",
      "  0.488059 seconds (67.17 k allocations: 3.211 MiB)\n"
     ]
    },
    {
     "data": {
      "text/plain": [
       "0xc1ba4cc9ec75c856"
      ]
     },
     "execution_count": 52,
     "metadata": {},
     "output_type": "execute_result"
    }
   ],
   "source": [
    "@time BIG = randn(1000,1000,100)\n",
    "@show Base.summarysize(BIG)\n",
    "@time TM.tm_hash(BIG)"
   ]
  },
  {
   "cell_type": "code",
   "execution_count": 53,
   "metadata": {
    "ExecuteTime": {
     "end_time": "2020-12-31T18:33:57.138000-05:00",
     "start_time": "2020-12-31T23:33:47.194Z"
    }
   },
   "outputs": [],
   "source": [
    "TM.dontsave(Y)"
   ]
  },
  {
   "cell_type": "code",
   "execution_count": 54,
   "metadata": {
    "ExecuteTime": {
     "end_time": "2020-12-31T18:33:58.891000-05:00",
     "start_time": "2020-12-31T23:33:47.196Z"
    }
   },
   "outputs": [
    {
     "data": {
      "text/plain": [
       "Dict{Any,Any} with 10 entries:\n",
       "  :a    => [0.0 0.580431 … 0.0275737 -0.607591; 1.60128 0.293623 … 0.177615 -0.…\n",
       "  :vec  => [1, 2, 3, 4]\n",
       "  :h1   => 0x4330888b40615b85\n",
       "  :y    => 3\n",
       "  :h0   => 0xc0fb5ae483d856da\n",
       "  :cell => 22\n",
       "  :S    => S\n",
       "  :z    => Any[]\n",
       "  :BIG  => [-0.924035 1.59391 … -0.304681 -0.992116; -0.208401 -0.829228 … -1.2…\n",
       "  :x    => S(0)"
      ]
     },
     "execution_count": 54,
     "metadata": {},
     "output_type": "execute_result"
    }
   ],
   "source": [
    "# But, we changed the binding of BIG. So it has been saved.\n",
    "TM.vars(IJulia.n - 1)"
   ]
  },
  {
   "cell_type": "markdown",
   "metadata": {},
   "source": [
    "`IJulia.n` stores the number of a cell. We will keep using this to index cells to facilitate editing of the notebook."
   ]
  },
  {
   "cell_type": "code",
   "execution_count": 55,
   "metadata": {
    "ExecuteTime": {
     "end_time": "2020-12-31T18:33:59.380000-05:00",
     "start_time": "2020-12-31T23:33:47.198Z"
    }
   },
   "outputs": [
    {
     "data": {
      "text/plain": [
       "55"
      ]
     },
     "execution_count": 55,
     "metadata": {},
     "output_type": "execute_result"
    }
   ],
   "source": [
    "IJulia.n"
   ]
  },
  {
   "cell_type": "markdown",
   "metadata": {},
   "source": [
    "It even works with plots."
   ]
  },
  {
   "cell_type": "code",
   "execution_count": 56,
   "metadata": {
    "ExecuteTime": {
     "end_time": "2020-12-31T18:34:17.101000-05:00",
     "start_time": "2020-12-31T23:33:47.200Z"
    }
   },
   "outputs": [
    {
     "data": {
      "image/png": "[encoded data removed]"
     },
     "execution_count": 56,
     "metadata": {},
     "output_type": "execute_result"
    }
   ],
   "source": [
    "cell = IJulia.n\n",
    "using Plots\n",
    "default(fmt = :png)\n",
    "p = plot(rand(5), rand(5))"
   ]
  },
  {
   "cell_type": "code",
   "execution_count": 57,
   "metadata": {
    "ExecuteTime": {
     "end_time": "2020-12-31T18:34:19.364000-05:00",
     "start_time": "2020-12-31T23:33:47.202Z"
    }
   },
   "outputs": [
    {
     "data": {
      "image/png": "[encoded data removed]"
     },
     "execution_count": 57,
     "metadata": {},
     "output_type": "execute_result"
    }
   ],
   "source": [
    "p = scatter(rand(10), rand(10))"
   ]
  },
  {
   "cell_type": "code",
   "execution_count": 58,
   "metadata": {
    "ExecuteTime": {
     "end_time": "2020-12-31T18:34:20.022000-05:00",
     "start_time": "2020-12-31T23:33:47.204Z"
    }
   },
   "outputs": [
    {
     "data": {
      "image/png": "[encoded data removed]"
     },
     "execution_count": 58,
     "metadata": {},
     "output_type": "execute_result"
    }
   ],
   "source": [
    "TM.vars(cell)[:p]"
   ]
  },
  {
   "cell_type": "markdown",
   "metadata": {},
   "source": [
    "# Running big jobs in threads"
   ]
  },
  {
   "cell_type": "markdown",
   "metadata": {},
   "source": [
    "The other feature of Time Machine is that it lets you run intensive jobs in threads, so that you can get other work done while they are running.  If you have a multicore machine, you can also view this as a way to manage running a bunch of experiments from Jupyter.  The key is to wrap the jobs in `TM.@thread begin`, followed by `end`.  Jobs that are running inside a `@thread` block sandbox their variables. To access the values of the variables from the thread after it finishes, look at `vars`, `ans`, or use `@past`.\n",
    "\n",
    "When the jobs finish, their result is stored in `Out`, and you can access their state from `past`.\n",
    "Unfortunately, if the jobs contain any print statements, they can show up in other cells.\n",
    "\n",
    "To see which jobs are running, look at `TM.running`.  `TM.finished` contains a list of those that have finished."
   ]
  },
  {
   "cell_type": "markdown",
   "metadata": {},
   "source": [
    "In the examples below, we will simulate the delay of a long-running job with `sleep`.  As you will see, results will change after jobs finish."
   ]
  },
  {
   "cell_type": "code",
   "execution_count": 59,
   "metadata": {
    "ExecuteTime": {
     "end_time": "2020-12-31T18:34:20.524000-05:00",
     "start_time": "2020-12-31T23:33:47.206Z"
    }
   },
   "outputs": [
    {
     "data": {
      "text/plain": [
       "1"
      ]
     },
     "execution_count": 59,
     "metadata": {},
     "output_type": "execute_result"
    }
   ],
   "source": [
    "x = collect(1:3)\n",
    "y = 1"
   ]
  },
  {
   "cell_type": "code",
   "execution_count": 60,
   "metadata": {
    "ExecuteTime": {
     "end_time": "2020-12-31T18:34:21.426000-05:00",
     "start_time": "2020-12-31T23:33:47.208Z"
    }
   },
   "outputs": [
    {
     "data": {
      "text/plain": [
       "Task (runnable) @0x00000001192add50"
      ]
     },
     "execution_count": 60,
     "metadata": {},
     "output_type": "execute_result"
    }
   ],
   "source": [
    "t0 = time()\n",
    "n = IJulia.n\n",
    "TM.@thread begin\n",
    "    y = y + 1\n",
    "    push!(x,y)\n",
    "    sleep(5)\n",
    "    sum(x)\n",
    "end"
   ]
  },
  {
   "cell_type": "code",
   "execution_count": 61,
   "metadata": {
    "ExecuteTime": {
     "end_time": "2020-12-31T18:34:21.961000-05:00",
     "start_time": "2020-12-31T23:33:47.209Z"
    }
   },
   "outputs": [
    {
     "name": "stdout",
     "output_type": "stream",
     "text": [
      "After 0.9098551273345947 seconds.\n"
     ]
    },
    {
     "data": {
      "text/plain": [
       "Task (runnable) @0x00000001192add50"
      ]
     },
     "execution_count": 61,
     "metadata": {},
     "output_type": "execute_result"
    }
   ],
   "source": [
    "println(\"After $(time() - t0) seconds.\")\n",
    "Out[n]"
   ]
  },
  {
   "cell_type": "code",
   "execution_count": 62,
   "metadata": {
    "ExecuteTime": {
     "end_time": "2020-12-31T18:34:32.521000-05:00",
     "start_time": "2020-12-31T23:33:47.211Z"
    }
   },
   "outputs": [],
   "source": [
    "sleep(10)"
   ]
  },
  {
   "cell_type": "code",
   "execution_count": 63,
   "metadata": {
    "ExecuteTime": {
     "end_time": "2020-12-31T18:34:33.041000-05:00",
     "start_time": "2020-12-31T23:33:47.213Z"
    }
   },
   "outputs": [
    {
     "name": "stdout",
     "output_type": "stream",
     "text": [
      "After 12.024251937866211 seconds.\n"
     ]
    },
    {
     "data": {
      "text/plain": [
       "8"
      ]
     },
     "execution_count": 63,
     "metadata": {},
     "output_type": "execute_result"
    }
   ],
   "source": [
    "println(\"After $(time() - t0) seconds.\")\n",
    "Out[n]"
   ]
  },
  {
   "cell_type": "code",
   "execution_count": 64,
   "metadata": {
    "ExecuteTime": {
     "end_time": "2020-12-31T18:34:33.802000-05:00",
     "start_time": "2020-12-31T23:33:47.214Z"
    }
   },
   "outputs": [
    {
     "data": {
      "text/plain": [
       "([1, 2, 3], 1)"
      ]
     },
     "execution_count": 64,
     "metadata": {},
     "output_type": "execute_result"
    }
   ],
   "source": [
    "x, y"
   ]
  },
  {
   "cell_type": "code",
   "execution_count": 65,
   "metadata": {
    "ExecuteTime": {
     "end_time": "2020-12-31T18:34:34.283000-05:00",
     "start_time": "2020-12-31T23:33:47.216Z"
    }
   },
   "outputs": [
    {
     "data": {
      "text/plain": [
       "([1, 2, 3, 2], 2)"
      ]
     },
     "execution_count": 65,
     "metadata": {},
     "output_type": "execute_result"
    }
   ],
   "source": [
    "TM.@past n\n",
    "x, y"
   ]
  },
  {
   "cell_type": "markdown",
   "metadata": {},
   "source": [
    "There is a subtle reason that I put the `sleep(10)` statement on a separate line.\n",
    "The output of finished jobs is only inserted into `Out` at the start of the execution of the first cell that is run after the job finishes. So, it is possible to go one cell without the output being correct.\n",
    "If you want to test it, put the `sleep(10)`  inside the next cell, and then run the cells in quick succession."
   ]
  },
  {
   "cell_type": "markdown",
   "metadata": {
    "ExecuteTime": {
     "end_time": "2020-09-12T18:57:39.559000-04:00",
     "start_time": "2020-09-12T22:57:39.554Z"
    }
   },
   "source": [
    "You can not put two `@thread` statements into one cell."
   ]
  },
  {
   "cell_type": "code",
   "execution_count": 66,
   "metadata": {
    "ExecuteTime": {
     "end_time": "2020-12-31T18:34:34.768000-05:00",
     "start_time": "2020-12-31T23:33:47.218Z"
    }
   },
   "outputs": [
    {
     "name": "stdout",
     "output_type": "stream",
     "text": [
      "@thread can be called at most once per cell.\n"
     ]
    }
   ],
   "source": [
    "n = IJulia.n\n",
    "TM.@thread begin\n",
    "    x = x + 1\n",
    "    y[1] = 3\n",
    "    sum(y)\n",
    "end\n",
    "TM.@thread begin\n",
    "    x = x + 1\n",
    "    y[1] = 4\n",
    "    sum(y)\n",
    "end"
   ]
  },
  {
   "cell_type": "markdown",
   "metadata": {},
   "source": [
    "But, you can have many running at once.  That's the point!"
   ]
  },
  {
   "cell_type": "code",
   "execution_count": 67,
   "metadata": {
    "ExecuteTime": {
     "end_time": "2020-12-31T18:34:35.348000-05:00",
     "start_time": "2020-12-31T23:33:47.220Z"
    }
   },
   "outputs": [
    {
     "data": {
      "text/plain": [
       "intense (generic function with 1 method)"
      ]
     },
     "execution_count": 67,
     "metadata": {},
     "output_type": "execute_result"
    }
   ],
   "source": [
    "function intense(n)\n",
    "    sleep(n)\n",
    "    println(\"I slept for $(n) seconds!\")\n",
    "    n^2\n",
    "end"
   ]
  },
  {
   "cell_type": "code",
   "execution_count": 68,
   "metadata": {
    "ExecuteTime": {
     "end_time": "2020-12-31T18:34:35.856000-05:00",
     "start_time": "2020-12-31T23:33:47.221Z"
    }
   },
   "outputs": [
    {
     "data": {
      "text/plain": [
       "Task (runnable) @0x00000001192ad690"
      ]
     },
     "execution_count": 68,
     "metadata": {},
     "output_type": "execute_result"
    }
   ],
   "source": [
    "t0 = time()\n",
    "n1 = IJulia.n\n",
    "TM.@thread intense(10)"
   ]
  },
  {
   "cell_type": "code",
   "execution_count": 69,
   "metadata": {
    "ExecuteTime": {
     "end_time": "2020-12-31T18:34:36.366000-05:00",
     "start_time": "2020-12-31T23:33:47.223Z"
    }
   },
   "outputs": [
    {
     "name": "stdout",
     "output_type": "stream",
     "text": [
      "After 0.508124828338623 seconds\n"
     ]
    },
    {
     "data": {
      "text/plain": [
       "Task (runnable) @0x000000011845f190"
      ]
     },
     "execution_count": 69,
     "metadata": {},
     "output_type": "execute_result"
    }
   ],
   "source": [
    "println(\"After $(time()-t0) seconds\")\n",
    "n2 = IJulia.n\n",
    "TM.@thread intense(11)"
   ]
  },
  {
   "cell_type": "code",
   "execution_count": 70,
   "metadata": {
    "ExecuteTime": {
     "end_time": "2020-12-31T18:34:36.890000-05:00",
     "start_time": "2020-12-31T23:33:47.224Z"
    }
   },
   "outputs": [
    {
     "name": "stdout",
     "output_type": "stream",
     "text": [
      "After 1.018509864807129 seconds\n"
     ]
    },
    {
     "data": {
      "text/plain": [
       "Task (runnable) @0x00000001192ae890"
      ]
     },
     "execution_count": 70,
     "metadata": {},
     "output_type": "execute_result"
    }
   ],
   "source": [
    "println(\"After $(time()-t0) seconds\")\n",
    "n3 = IJulia.n\n",
    "TM.@thread intense(2)"
   ]
  },
  {
   "cell_type": "code",
   "execution_count": 71,
   "metadata": {
    "ExecuteTime": {
     "end_time": "2020-12-31T18:34:37.882000-05:00",
     "start_time": "2020-12-31T23:33:47.226Z"
    }
   },
   "outputs": [
    {
     "name": "stdout",
     "output_type": "stream",
     "text": [
      "After 1.5418009757995605 seconds\n"
     ]
    },
    {
     "data": {
      "text/plain": [
       "Set{Any} with 3 elements:\n",
       "  68\n",
       "  69\n",
       "  70"
      ]
     },
     "execution_count": 71,
     "metadata": {},
     "output_type": "execute_result"
    }
   ],
   "source": [
    "println(\"After $(time()-t0) seconds\")\n",
    "TM.running"
   ]
  },
  {
   "cell_type": "code",
   "execution_count": 72,
   "metadata": {
    "ExecuteTime": {
     "end_time": "2020-12-31T18:34:41.419000-05:00",
     "start_time": "2020-12-31T23:33:47.227Z"
    }
   },
   "outputs": [
    {
     "name": "stdout",
     "output_type": "stream",
     "text": [
      "I slept for 2 seconds!\n"
     ]
    }
   ],
   "source": [
    "sleep(3)"
   ]
  },
  {
   "cell_type": "code",
   "execution_count": 73,
   "metadata": {
    "ExecuteTime": {
     "end_time": "2020-12-31T18:34:41.968000-05:00",
     "start_time": "2020-12-31T23:33:47.229Z"
    }
   },
   "outputs": [
    {
     "name": "stdout",
     "output_type": "stream",
     "text": [
      "After 6.071583032608032 seconds\n"
     ]
    },
    {
     "data": {
      "text/plain": [
       "Set{Any} with 2 elements:\n",
       "  68\n",
       "  69"
      ]
     },
     "execution_count": 73,
     "metadata": {},
     "output_type": "execute_result"
    }
   ],
   "source": [
    "println(\"After $(time()-t0) seconds\")\n",
    "TM.running"
   ]
  },
  {
   "cell_type": "code",
   "execution_count": 74,
   "metadata": {
    "ExecuteTime": {
     "end_time": "2020-12-31T18:34:42.844000-05:00",
     "start_time": "2020-12-31T23:33:47.231Z"
    }
   },
   "outputs": [
    {
     "name": "stdout",
     "output_type": "stream",
     "text": [
      "After 6.620029926300049 seconds\n"
     ]
    },
    {
     "data": {
      "text/plain": [
       "2-element Array{Int64,1}:\n",
       " 60\n",
       " 70"
      ]
     },
     "execution_count": 74,
     "metadata": {},
     "output_type": "execute_result"
    }
   ],
   "source": [
    "println(\"After $(time()-t0) seconds\")\n",
    "TM.finished"
   ]
  },
  {
   "cell_type": "code",
   "execution_count": 75,
   "metadata": {
    "ExecuteTime": {
     "end_time": "2020-12-31T18:34:53.381000-05:00",
     "start_time": "2020-12-31T23:33:47.232Z"
    }
   },
   "outputs": [
    {
     "name": "stdout",
     "output_type": "stream",
     "text": [
      "I slept for 10 seconds!\n",
      "I slept for 11 seconds!\n",
      "After 17.50132989883423 seconds\n"
     ]
    },
    {
     "data": {
      "text/plain": [
       "Set{Any}()"
      ]
     },
     "execution_count": 75,
     "metadata": {},
     "output_type": "execute_result"
    }
   ],
   "source": [
    "sleep(10)\n",
    "println(\"After $(time()-t0) seconds\")\n",
    "TM.running"
   ]
  },
  {
   "cell_type": "code",
   "execution_count": 76,
   "metadata": {
    "ExecuteTime": {
     "end_time": "2020-12-31T18:34:54.119000-05:00",
     "start_time": "2020-12-31T23:33:47.233Z"
    }
   },
   "outputs": [
    {
     "data": {
      "text/plain": [
       "(100, 121, 4)"
      ]
     },
     "execution_count": 76,
     "metadata": {},
     "output_type": "execute_result"
    }
   ],
   "source": [
    "Out[n1], Out[n2], Out[n3]"
   ]
  },
  {
   "cell_type": "markdown",
   "metadata": {},
   "source": [
    "You can also get notifications of when jobs finish.\n",
    "These can be sent to Jupyter, in which case they will just print.\n",
    "You can also send them to the terminal in which Jupyter is running, or both."
   ]
  },
  {
   "cell_type": "code",
   "execution_count": 77,
   "metadata": {
    "ExecuteTime": {
     "end_time": "2020-12-31T18:34:54.642000-05:00",
     "start_time": "2020-12-31T23:33:47.235Z"
    }
   },
   "outputs": [
    {
     "name": "stdout",
     "output_type": "stream",
     "text": [
      "this will run for 3 seconds\n"
     ]
    },
    {
     "data": {
      "text/plain": [
       "Task (runnable) @0x000000011845c010"
      ]
     },
     "execution_count": 77,
     "metadata": {},
     "output_type": "execute_result"
    }
   ],
   "source": [
    "TM.notify_jupyter!(true)\n",
    "TM.notify_terminal!(true)\n",
    "@TM.thread begin\n",
    "    println(\"this will run for 3 seconds\")\n",
    "    sleep(3)\n",
    "end"
   ]
  },
  {
   "cell_type": "code",
   "execution_count": 78,
   "metadata": {
    "ExecuteTime": {
     "end_time": "2020-12-31T18:35:09.680000-05:00",
     "start_time": "2020-12-31T23:33:47.236Z"
    }
   },
   "outputs": [
    {
     "name": "stdout",
     "output_type": "stream",
     "text": [
      "Cell 78"
     ]
    },
    {
     "data": {
      "text/plain": [
       "Task (runnable) @0x00000001188be890"
      ]
     },
     "execution_count": 78,
     "metadata": {},
     "output_type": "execute_result"
    },
    {
     "name": "stdout",
     "output_type": "stream",
     "text": [
      " finished.\n",
      "Cell 77 finished.\n"
     ]
    }
   ],
   "source": [
    "n = IJulia.n\n",
    "using LinearAlgebra\n",
    "@TM.thread begin\n",
    "    min_svd = Inf\n",
    "    min_matrix = []\n",
    "    for i in 1:100\n",
    "        M = rand([-1;1], 1000, 1000)\n",
    "        v = minimum(svdvals(M))\n",
    "        if v < min_svd\n",
    "            min_svd = v\n",
    "            min_matrix = M\n",
    "        end\n",
    "    end\n",
    "    min_svd\n",
    "end"
   ]
  },
  {
   "cell_type": "code",
   "execution_count": 79,
   "metadata": {
    "ExecuteTime": {
     "end_time": "2020-12-31T18:35:10.221000-05:00",
     "start_time": "2020-12-31T23:33:47.238Z"
    }
   },
   "outputs": [],
   "source": [
    "# do some other stuff, clobbering v and M\n",
    "v = 0\n",
    "M = randn(100,100)\n",
    ";"
   ]
  },
  {
   "cell_type": "code",
   "execution_count": 80,
   "metadata": {
    "ExecuteTime": {
     "end_time": "2020-12-31T18:35:10.834000-05:00",
     "start_time": "2020-12-31T23:33:47.239Z"
    }
   },
   "outputs": [
    {
     "data": {
      "text/plain": [
       "0.00012619151374331338"
      ]
     },
     "execution_count": 80,
     "metadata": {},
     "output_type": "execute_result"
    }
   ],
   "source": [
    "# that min svd value computed above\n",
    "TM.ans(n)"
   ]
  },
  {
   "cell_type": "code",
   "execution_count": 81,
   "metadata": {
    "ExecuteTime": {
     "end_time": "2020-12-31T18:35:11.464000-05:00",
     "start_time": "2020-12-31T23:33:47.240Z"
    }
   },
   "outputs": [
    {
     "data": {
      "text/plain": [
       "0.00012619151374331338"
      ]
     },
     "execution_count": 81,
     "metadata": {},
     "output_type": "execute_result"
    }
   ],
   "source": [
    "# and, the matrix that realized it\n",
    "M = TM.vars(n)[:min_matrix]\n",
    "minimum(svdvals(M))"
   ]
  },
  {
   "cell_type": "code",
   "execution_count": null,
   "metadata": {},
   "outputs": [],
   "source": []
  }
 ],
 "metadata": {
  "@webio": {
   "lastCommId": null,
   "lastKernelId": null
  },
  "kernelspec": {
   "display_name": "Julia 1.5.3",
   "language": "julia",
   "name": "julia-1.5"
  },
  "language_info": {
   "file_extension": ".jl",
   "mimetype": "application/julia",
   "name": "julia",
   "version": "1.5.3"
  },
  "toc": {
   "base_numbering": 1,
   "nav_menu": {},
   "number_sections": true,
   "sideBar": true,
   "skip_h1_title": false,
   "title_cell": "Table of Contents",
   "title_sidebar": "Contents",
   "toc_cell": false,
   "toc_position": {},
   "toc_section_display": true,
   "toc_window_display": true
  }
 },
 "nbformat": 4,
 "nbformat_minor": 4
}
